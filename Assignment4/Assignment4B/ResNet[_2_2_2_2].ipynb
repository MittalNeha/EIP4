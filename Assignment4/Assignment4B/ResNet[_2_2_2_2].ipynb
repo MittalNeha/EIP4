{
  "nbformat": 4,
  "nbformat_minor": 0,
  "metadata": {
    "colab": {
      "name": "ResNet[ 2 2 2 2].ipynb",
      "provenance": [],
      "collapsed_sections": [],
      "include_colab_link": true
    },
    "kernelspec": {
      "name": "python3",
      "display_name": "Python 3"
    },
    "accelerator": "GPU"
  },
  "cells": [
    {
      "cell_type": "markdown",
      "metadata": {
        "id": "view-in-github",
        "colab_type": "text"
      },
      "source": [
        "<a href=\"https://colab.research.google.com/github/MittalNeha/EIP4/blob/master/Assignment4/Assignment4B/ResNet%5B_2_2_2_2%5D.ipynb\" target=\"_parent\"><img src=\"https://colab.research.google.com/assets/colab-badge.svg\" alt=\"Open In Colab\"/></a>"
      ]
    },
    {
      "cell_type": "code",
      "metadata": {
        "id": "ZSDcmImLkCMX",
        "colab_type": "code",
        "outputId": "62c3544e-978d-4665-e1c4-191e38a28057",
        "colab": {
          "base_uri": "https://localhost:8080/",
          "height": 81
        }
      },
      "source": [
        "import keras\n",
        "from keras.layers import Dense, Conv2D, BatchNormalization, Activation\n",
        "from keras.layers import AveragePooling2D, Input, Flatten\n",
        "from keras.optimizers import Adam\n",
        "from keras.callbacks import ModelCheckpoint, LearningRateScheduler\n",
        "from keras.callbacks import ReduceLROnPlateau\n",
        "from keras.preprocessing.image import ImageDataGenerator\n",
        "from keras.regularizers import l2\n",
        "from keras import backend as K\n",
        "from keras.models import Model\n",
        "from keras.datasets import cifar10\n",
        "import numpy as np\n",
        "import os\n",
        "from keras.utils import np_utils\n",
        "import matplotlib.pyplot as plt\n",
        "\n",
        "from keras.layers import GlobalAveragePooling2D"
      ],
      "execution_count": 0,
      "outputs": [
        {
          "output_type": "stream",
          "text": [
            "Using TensorFlow backend.\n"
          ],
          "name": "stderr"
        },
        {
          "output_type": "display_data",
          "data": {
            "text/html": [
              "<p style=\"color: red;\">\n",
              "The default version of TensorFlow in Colab will soon switch to TensorFlow 2.x.<br>\n",
              "We recommend you <a href=\"https://www.tensorflow.org/guide/migrate\" target=\"_blank\">upgrade</a> now \n",
              "or ensure your notebook will continue to use TensorFlow 1.x via the <code>%tensorflow_version 1.x</code> magic:\n",
              "<a href=\"https://colab.research.google.com/notebooks/tensorflow_version.ipynb\" target=\"_blank\">more info</a>.</p>\n"
            ],
            "text/plain": [
              "<IPython.core.display.HTML object>"
            ]
          },
          "metadata": {
            "tags": []
          }
        }
      ]
    },
    {
      "cell_type": "code",
      "metadata": {
        "id": "nmoMEydcmUrS",
        "colab_type": "code",
        "colab": {}
      },
      "source": [
        "from keras.datasets import cifar10\n",
        "(train_features, train_labels), (test_features, test_labels) = cifar10.load_data()\n",
        "num_train, img_channels, img_rows, img_cols =  train_features.shape\n",
        "num_test, _, _, _ =  test_features.shape\n",
        "num_classes = len(np.unique(train_labels))\n",
        "input_shape = train_features.shape[1:]"
      ],
      "execution_count": 0,
      "outputs": []
    },
    {
      "cell_type": "code",
      "metadata": {
        "id": "Gl8rEZRCmhJz",
        "colab_type": "code",
        "colab": {}
      },
      "source": [
        "batch_size = 128  # orig paper trained all networks with batch_size=128\n",
        "epochs = 50\n",
        "data_augmentation = True\n",
        "num_classes = 10"
      ],
      "execution_count": 0,
      "outputs": []
    },
    {
      "cell_type": "code",
      "metadata": {
        "id": "979r2t3OnR23",
        "colab_type": "code",
        "colab": {}
      },
      "source": [
        "train_features = train_features.astype('float32')/255\n",
        "test_features = test_features.astype('float32')/255\n",
        "# convert class labels to binary class labels\n",
        "train_labels = np_utils.to_categorical(train_labels, num_classes)\n",
        "test_labels = np_utils.to_categorical(test_labels, num_classes)"
      ],
      "execution_count": 0,
      "outputs": []
    },
    {
      "cell_type": "code",
      "metadata": {
        "id": "wn9h1I90p55z",
        "colab_type": "code",
        "colab": {}
      },
      "source": [
        "depth = 18\n",
        "version = 1\n",
        "model_type = 'ResNet%dv%d' % (depth, version)"
      ],
      "execution_count": 0,
      "outputs": []
    },
    {
      "cell_type": "code",
      "metadata": {
        "id": "PNEFy0DJnWEX",
        "colab_type": "code",
        "colab": {}
      },
      "source": [
        "def resnet_layer(inputs,\n",
        "                 num_filters=16,\n",
        "                 kernel_size=3,\n",
        "                 strides=1,\n",
        "                 activation='relu',\n",
        "                 batch_normalization=True,\n",
        "                 conv_first=True):\n",
        "    \"\"\"2D Convolution-Batch Normalization-Activation stack builder\n",
        "\n",
        "    # Arguments\n",
        "        inputs (tensor): input tensor from input image or previous layer\n",
        "        num_filters (int): Conv2D number of filters\n",
        "        kernel_size (int): Conv2D square kernel dimensions\n",
        "        strides (int): Conv2D square stride dimensions\n",
        "        activation (string): activation name\n",
        "        batch_normalization (bool): whether to include batch normalization\n",
        "        conv_first (bool): conv-bn-activation (True) or\n",
        "            bn-activation-conv (False)\n",
        "\n",
        "    # Returns\n",
        "        x (tensor): tensor as input to the next layer\n",
        "    \"\"\"\n",
        "    conv = Conv2D(num_filters,\n",
        "                  kernel_size=kernel_size,\n",
        "                  strides=strides,\n",
        "                  padding='same',\n",
        "                  kernel_initializer='he_normal',\n",
        "                  kernel_regularizer=l2(1e-4))\n",
        "\n",
        "    x = inputs\n",
        "    if conv_first:\n",
        "        print(x.shape)\n",
        "        x = conv(x)\n",
        "        print('num filters = {}'.format(num_filters))\n",
        "        if batch_normalization:\n",
        "            x = BatchNormalization()(x)\n",
        "        if activation is not None:\n",
        "            x = Activation(activation)(x)\n",
        "    else:\n",
        "        if batch_normalization:\n",
        "            x = BatchNormalization()(x)\n",
        "        if activation is not None:\n",
        "            x = Activation(activation)(x)\n",
        "        x = conv(x)\n",
        "    return x\n"
      ],
      "execution_count": 0,
      "outputs": []
    },
    {
      "cell_type": "code",
      "metadata": {
        "id": "lsLxSuy1kN7f",
        "colab_type": "code",
        "colab": {}
      },
      "source": [
        "def resnet_v1(input_shape, depth, num_classes=10):\n",
        "    \"\"\"ResNet Version 1 Model builder [a]\n",
        "\n",
        "    Stacks of 2 x (3 x 3) Conv2D-BN-ReLU\n",
        "    Last ReLU is after the shortcut connection.\n",
        "    At the beginning of each stage, the feature map size is halved (downsampled)\n",
        "    by a convolutional layer with strides=2, while the number of filters is\n",
        "    doubled. Within each stage, the layers have the same number filters and the\n",
        "    same number of filters.\n",
        "    Features maps sizes:\n",
        "    stage 0: 32x32, 16\n",
        "    stage 1: 16x16, 32\n",
        "    stage 2:  8x8,  64\n",
        "    The Number of parameters is approx the same as Table 6 of [a]:\n",
        "    ResNet20 0.27M\n",
        "    ResNet32 0.46M\n",
        "    ResNet44 0.66M\n",
        "    ResNet56 0.85M\n",
        "    ResNet110 1.7M\n",
        "\n",
        "    # Arguments\n",
        "        input_shape (tensor): shape of input image tensor\n",
        "        depth (int): number of core convolutional layers\n",
        "        num_classes (int): number of classes (CIFAR10 has 10)\n",
        "\n",
        "    # Returns\n",
        "        model (Model): Keras model instance\n",
        "    \"\"\"\n",
        "    # if (depth - 2) % 6 != 0:\n",
        "    #     raise ValueError('depth should be 6n+2 (eg 20, 32, 44 in [a])')\n",
        "    # # Start model definition.\n",
        "    num_filters = 64\n",
        "    # num_res_blocks = int((depth - 2) / 6)\n",
        "\n",
        "    num_res_blocks = 2\n",
        "    inputs = Input(shape=input_shape)\n",
        "    x = resnet_layer(inputs=inputs, num_filters=num_filters)\n",
        "    # Instantiate the stack of residual units\n",
        "    # for stack in range(3):\n",
        "    for stack in range(4):\n",
        "        print('*********************************')\n",
        "        for res_block in range(num_res_blocks):\n",
        "            print('--------------------------------')\n",
        "            strides = 1\n",
        "            if stack > 0 and res_block == 0:  # first layer but not first stack\n",
        "                strides = 2  # downsample\n",
        "            y = resnet_layer(inputs=x,\n",
        "                             num_filters=num_filters,\n",
        "                             strides=strides)\n",
        "            y = resnet_layer(inputs=y,\n",
        "                             num_filters=num_filters,\n",
        "                             activation=None)\n",
        "            if stack > 0 and res_block == 0:  # first layer but not first stack\n",
        "                # linear projection residual shortcut connection to match\n",
        "                # changed dims\n",
        "                x = resnet_layer(inputs=x,\n",
        "                                 num_filters=num_filters,\n",
        "                                 kernel_size=1,\n",
        "                                 strides=strides,\n",
        "                                 activation=None,\n",
        "                                 batch_normalization=False)\n",
        "            x = keras.layers.add([x, y])\n",
        "            x = Activation('relu')(x)\n",
        "            print('--------------------------------')\n",
        "        num_filters *= 2\n",
        "        print('*********************************')\n",
        "\n",
        "    # Add classifier on top.\n",
        "    # v1 does not use BN after last shortcut connection-ReLU\n",
        "    x = GlobalAveragePooling2D()(x)\n",
        "    # x = AveragePooling2D(pool_size=4)(x)\n",
        "    # y = Flatten()(x)\n",
        "    outputs = Dense(num_classes,\n",
        "                    activation='softmax',\n",
        "                    kernel_initializer='he_normal')(x)\n",
        "\n",
        "    # Instantiate model.\n",
        "    model = Model(inputs=inputs, outputs=outputs)\n",
        "    return model"
      ],
      "execution_count": 0,
      "outputs": []
    },
    {
      "cell_type": "code",
      "metadata": {
        "id": "jIbzlM2hphg8",
        "colab_type": "code",
        "colab": {}
      },
      "source": [
        "def lr_schedule(epoch):\n",
        "    \"\"\"Learning Rate Schedule\n",
        "\n",
        "    Learning rate is scheduled to be reduced after 80, 120, 160, 180 epochs.\n",
        "    Called automatically every epoch as part of callbacks during training.\n",
        "\n",
        "    # Arguments\n",
        "        epoch (int): The number of epochs\n",
        "\n",
        "    # Returns\n",
        "        lr (float32): learning rate\n",
        "    \"\"\"\n",
        "    lr = 1e-3\n",
        "    if epoch > 180:\n",
        "        lr *= 0.5e-3\n",
        "    elif epoch > 160:\n",
        "        lr *= 1e-3\n",
        "    elif epoch > 120:\n",
        "        lr *= 1e-2\n",
        "    elif epoch > 80:\n",
        "        lr *= 1e-1\n",
        "    print('Learning rate: ', lr)\n",
        "    return lr"
      ],
      "execution_count": 0,
      "outputs": []
    },
    {
      "cell_type": "code",
      "metadata": {
        "id": "OKQp8d6AnJdS",
        "colab_type": "code",
        "outputId": "4b8fb8bf-bee8-4f93-828d-30c162b45214",
        "colab": {
          "base_uri": "https://localhost:8080/",
          "height": 1000
        }
      },
      "source": [
        "depth = 18\n",
        "model = resnet_v1(input_shape=input_shape, depth=depth)\n",
        "\n",
        "model.compile(loss='categorical_crossentropy',\n",
        "              optimizer=Adam(lr=lr_schedule(0)),\n",
        "              metrics=['accuracy'])\n",
        "model.summary()\n",
        "print(model_type)\n",
        "\n",
        "# Prepare model model saving directory.\n",
        "save_dir = os.path.join(os.getcwd(), 'saved_models')\n",
        "model_name = 'cifar10_%s_model.h5' % model_type\n",
        "# model_name = 'cifar10_%s_model.{epoch:03d}.h5' % model_type\n",
        "\n",
        "if not os.path.isdir(save_dir):\n",
        "    os.makedirs(save_dir)\n",
        "filepath = os.path.join(save_dir, model_name)"
      ],
      "execution_count": 0,
      "outputs": [
        {
          "output_type": "stream",
          "text": [
            "WARNING:tensorflow:From /usr/local/lib/python3.6/dist-packages/keras/backend/tensorflow_backend.py:66: The name tf.get_default_graph is deprecated. Please use tf.compat.v1.get_default_graph instead.\n",
            "\n",
            "WARNING:tensorflow:From /usr/local/lib/python3.6/dist-packages/keras/backend/tensorflow_backend.py:541: The name tf.placeholder is deprecated. Please use tf.compat.v1.placeholder instead.\n",
            "\n",
            "(?, 32, 32, 3)\n",
            "WARNING:tensorflow:From /usr/local/lib/python3.6/dist-packages/keras/backend/tensorflow_backend.py:4479: The name tf.truncated_normal is deprecated. Please use tf.random.truncated_normal instead.\n",
            "\n",
            "num filters = 64\n",
            "WARNING:tensorflow:From /usr/local/lib/python3.6/dist-packages/keras/backend/tensorflow_backend.py:190: The name tf.get_default_session is deprecated. Please use tf.compat.v1.get_default_session instead.\n",
            "\n",
            "WARNING:tensorflow:From /usr/local/lib/python3.6/dist-packages/keras/backend/tensorflow_backend.py:197: The name tf.ConfigProto is deprecated. Please use tf.compat.v1.ConfigProto instead.\n",
            "\n",
            "WARNING:tensorflow:From /usr/local/lib/python3.6/dist-packages/keras/backend/tensorflow_backend.py:203: The name tf.Session is deprecated. Please use tf.compat.v1.Session instead.\n",
            "\n",
            "WARNING:tensorflow:From /usr/local/lib/python3.6/dist-packages/keras/backend/tensorflow_backend.py:207: The name tf.global_variables is deprecated. Please use tf.compat.v1.global_variables instead.\n",
            "\n",
            "WARNING:tensorflow:From /usr/local/lib/python3.6/dist-packages/keras/backend/tensorflow_backend.py:216: The name tf.is_variable_initialized is deprecated. Please use tf.compat.v1.is_variable_initialized instead.\n",
            "\n",
            "WARNING:tensorflow:From /usr/local/lib/python3.6/dist-packages/keras/backend/tensorflow_backend.py:223: The name tf.variables_initializer is deprecated. Please use tf.compat.v1.variables_initializer instead.\n",
            "\n",
            "WARNING:tensorflow:From /usr/local/lib/python3.6/dist-packages/keras/backend/tensorflow_backend.py:2041: The name tf.nn.fused_batch_norm is deprecated. Please use tf.compat.v1.nn.fused_batch_norm instead.\n",
            "\n",
            "WARNING:tensorflow:From /usr/local/lib/python3.6/dist-packages/keras/backend/tensorflow_backend.py:148: The name tf.placeholder_with_default is deprecated. Please use tf.compat.v1.placeholder_with_default instead.\n",
            "\n",
            "*********************************\n",
            "--------------------------------\n",
            "(?, 32, 32, 64)\n",
            "num filters = 64\n",
            "(?, 32, 32, 64)\n",
            "num filters = 64\n",
            "--------------------------------\n",
            "--------------------------------\n",
            "(?, 32, 32, 64)\n",
            "num filters = 64\n",
            "(?, 32, 32, 64)\n",
            "num filters = 64\n",
            "--------------------------------\n",
            "*********************************\n",
            "*********************************\n",
            "--------------------------------\n",
            "(?, 32, 32, 64)\n",
            "num filters = 128\n",
            "(?, 16, 16, 128)\n",
            "num filters = 128\n",
            "(?, 32, 32, 64)\n",
            "num filters = 128\n",
            "--------------------------------\n",
            "--------------------------------\n",
            "(?, 16, 16, 128)\n",
            "num filters = 128\n",
            "(?, 16, 16, 128)\n",
            "num filters = 128\n",
            "--------------------------------\n",
            "*********************************\n",
            "*********************************\n",
            "--------------------------------\n",
            "(?, 16, 16, 128)\n",
            "num filters = 256\n",
            "(?, 8, 8, 256)\n",
            "num filters = 256\n",
            "(?, 16, 16, 128)\n",
            "num filters = 256\n",
            "--------------------------------\n",
            "--------------------------------\n",
            "(?, 8, 8, 256)\n",
            "num filters = 256\n",
            "(?, 8, 8, 256)\n",
            "num filters = 256\n",
            "--------------------------------\n",
            "*********************************\n",
            "*********************************\n",
            "--------------------------------\n",
            "(?, 8, 8, 256)\n",
            "num filters = 512\n",
            "(?, 4, 4, 512)\n",
            "num filters = 512\n",
            "(?, 8, 8, 256)\n",
            "num filters = 512\n",
            "--------------------------------\n",
            "--------------------------------\n",
            "(?, 4, 4, 512)\n",
            "num filters = 512\n",
            "(?, 4, 4, 512)\n",
            "num filters = 512\n",
            "--------------------------------\n",
            "*********************************\n",
            "Learning rate:  0.001\n",
            "WARNING:tensorflow:From /usr/local/lib/python3.6/dist-packages/keras/optimizers.py:793: The name tf.train.Optimizer is deprecated. Please use tf.compat.v1.train.Optimizer instead.\n",
            "\n",
            "WARNING:tensorflow:From /usr/local/lib/python3.6/dist-packages/keras/backend/tensorflow_backend.py:3576: The name tf.log is deprecated. Please use tf.math.log instead.\n",
            "\n",
            "Model: \"model_1\"\n",
            "__________________________________________________________________________________________________\n",
            "Layer (type)                    Output Shape         Param #     Connected to                     \n",
            "==================================================================================================\n",
            "input_1 (InputLayer)            (None, 32, 32, 3)    0                                            \n",
            "__________________________________________________________________________________________________\n",
            "conv2d_1 (Conv2D)               (None, 32, 32, 64)   1792        input_1[0][0]                    \n",
            "__________________________________________________________________________________________________\n",
            "batch_normalization_1 (BatchNor (None, 32, 32, 64)   256         conv2d_1[0][0]                   \n",
            "__________________________________________________________________________________________________\n",
            "activation_1 (Activation)       (None, 32, 32, 64)   0           batch_normalization_1[0][0]      \n",
            "__________________________________________________________________________________________________\n",
            "conv2d_2 (Conv2D)               (None, 32, 32, 64)   36928       activation_1[0][0]               \n",
            "__________________________________________________________________________________________________\n",
            "batch_normalization_2 (BatchNor (None, 32, 32, 64)   256         conv2d_2[0][0]                   \n",
            "__________________________________________________________________________________________________\n",
            "activation_2 (Activation)       (None, 32, 32, 64)   0           batch_normalization_2[0][0]      \n",
            "__________________________________________________________________________________________________\n",
            "conv2d_3 (Conv2D)               (None, 32, 32, 64)   36928       activation_2[0][0]               \n",
            "__________________________________________________________________________________________________\n",
            "batch_normalization_3 (BatchNor (None, 32, 32, 64)   256         conv2d_3[0][0]                   \n",
            "__________________________________________________________________________________________________\n",
            "add_1 (Add)                     (None, 32, 32, 64)   0           activation_1[0][0]               \n",
            "                                                                 batch_normalization_3[0][0]      \n",
            "__________________________________________________________________________________________________\n",
            "activation_3 (Activation)       (None, 32, 32, 64)   0           add_1[0][0]                      \n",
            "__________________________________________________________________________________________________\n",
            "conv2d_4 (Conv2D)               (None, 32, 32, 64)   36928       activation_3[0][0]               \n",
            "__________________________________________________________________________________________________\n",
            "batch_normalization_4 (BatchNor (None, 32, 32, 64)   256         conv2d_4[0][0]                   \n",
            "__________________________________________________________________________________________________\n",
            "activation_4 (Activation)       (None, 32, 32, 64)   0           batch_normalization_4[0][0]      \n",
            "__________________________________________________________________________________________________\n",
            "conv2d_5 (Conv2D)               (None, 32, 32, 64)   36928       activation_4[0][0]               \n",
            "__________________________________________________________________________________________________\n",
            "batch_normalization_5 (BatchNor (None, 32, 32, 64)   256         conv2d_5[0][0]                   \n",
            "__________________________________________________________________________________________________\n",
            "add_2 (Add)                     (None, 32, 32, 64)   0           activation_3[0][0]               \n",
            "                                                                 batch_normalization_5[0][0]      \n",
            "__________________________________________________________________________________________________\n",
            "activation_5 (Activation)       (None, 32, 32, 64)   0           add_2[0][0]                      \n",
            "__________________________________________________________________________________________________\n",
            "conv2d_6 (Conv2D)               (None, 16, 16, 128)  73856       activation_5[0][0]               \n",
            "__________________________________________________________________________________________________\n",
            "batch_normalization_6 (BatchNor (None, 16, 16, 128)  512         conv2d_6[0][0]                   \n",
            "__________________________________________________________________________________________________\n",
            "activation_6 (Activation)       (None, 16, 16, 128)  0           batch_normalization_6[0][0]      \n",
            "__________________________________________________________________________________________________\n",
            "conv2d_7 (Conv2D)               (None, 16, 16, 128)  147584      activation_6[0][0]               \n",
            "__________________________________________________________________________________________________\n",
            "conv2d_8 (Conv2D)               (None, 16, 16, 128)  8320        activation_5[0][0]               \n",
            "__________________________________________________________________________________________________\n",
            "batch_normalization_7 (BatchNor (None, 16, 16, 128)  512         conv2d_7[0][0]                   \n",
            "__________________________________________________________________________________________________\n",
            "add_3 (Add)                     (None, 16, 16, 128)  0           conv2d_8[0][0]                   \n",
            "                                                                 batch_normalization_7[0][0]      \n",
            "__________________________________________________________________________________________________\n",
            "activation_7 (Activation)       (None, 16, 16, 128)  0           add_3[0][0]                      \n",
            "__________________________________________________________________________________________________\n",
            "conv2d_9 (Conv2D)               (None, 16, 16, 128)  147584      activation_7[0][0]               \n",
            "__________________________________________________________________________________________________\n",
            "batch_normalization_8 (BatchNor (None, 16, 16, 128)  512         conv2d_9[0][0]                   \n",
            "__________________________________________________________________________________________________\n",
            "activation_8 (Activation)       (None, 16, 16, 128)  0           batch_normalization_8[0][0]      \n",
            "__________________________________________________________________________________________________\n",
            "conv2d_10 (Conv2D)              (None, 16, 16, 128)  147584      activation_8[0][0]               \n",
            "__________________________________________________________________________________________________\n",
            "batch_normalization_9 (BatchNor (None, 16, 16, 128)  512         conv2d_10[0][0]                  \n",
            "__________________________________________________________________________________________________\n",
            "add_4 (Add)                     (None, 16, 16, 128)  0           activation_7[0][0]               \n",
            "                                                                 batch_normalization_9[0][0]      \n",
            "__________________________________________________________________________________________________\n",
            "activation_9 (Activation)       (None, 16, 16, 128)  0           add_4[0][0]                      \n",
            "__________________________________________________________________________________________________\n",
            "conv2d_11 (Conv2D)              (None, 8, 8, 256)    295168      activation_9[0][0]               \n",
            "__________________________________________________________________________________________________\n",
            "batch_normalization_10 (BatchNo (None, 8, 8, 256)    1024        conv2d_11[0][0]                  \n",
            "__________________________________________________________________________________________________\n",
            "activation_10 (Activation)      (None, 8, 8, 256)    0           batch_normalization_10[0][0]     \n",
            "__________________________________________________________________________________________________\n",
            "conv2d_12 (Conv2D)              (None, 8, 8, 256)    590080      activation_10[0][0]              \n",
            "__________________________________________________________________________________________________\n",
            "conv2d_13 (Conv2D)              (None, 8, 8, 256)    33024       activation_9[0][0]               \n",
            "__________________________________________________________________________________________________\n",
            "batch_normalization_11 (BatchNo (None, 8, 8, 256)    1024        conv2d_12[0][0]                  \n",
            "__________________________________________________________________________________________________\n",
            "add_5 (Add)                     (None, 8, 8, 256)    0           conv2d_13[0][0]                  \n",
            "                                                                 batch_normalization_11[0][0]     \n",
            "__________________________________________________________________________________________________\n",
            "activation_11 (Activation)      (None, 8, 8, 256)    0           add_5[0][0]                      \n",
            "__________________________________________________________________________________________________\n",
            "conv2d_14 (Conv2D)              (None, 8, 8, 256)    590080      activation_11[0][0]              \n",
            "__________________________________________________________________________________________________\n",
            "batch_normalization_12 (BatchNo (None, 8, 8, 256)    1024        conv2d_14[0][0]                  \n",
            "__________________________________________________________________________________________________\n",
            "activation_12 (Activation)      (None, 8, 8, 256)    0           batch_normalization_12[0][0]     \n",
            "__________________________________________________________________________________________________\n",
            "conv2d_15 (Conv2D)              (None, 8, 8, 256)    590080      activation_12[0][0]              \n",
            "__________________________________________________________________________________________________\n",
            "batch_normalization_13 (BatchNo (None, 8, 8, 256)    1024        conv2d_15[0][0]                  \n",
            "__________________________________________________________________________________________________\n",
            "add_6 (Add)                     (None, 8, 8, 256)    0           activation_11[0][0]              \n",
            "                                                                 batch_normalization_13[0][0]     \n",
            "__________________________________________________________________________________________________\n",
            "activation_13 (Activation)      (None, 8, 8, 256)    0           add_6[0][0]                      \n",
            "__________________________________________________________________________________________________\n",
            "conv2d_16 (Conv2D)              (None, 4, 4, 512)    1180160     activation_13[0][0]              \n",
            "__________________________________________________________________________________________________\n",
            "batch_normalization_14 (BatchNo (None, 4, 4, 512)    2048        conv2d_16[0][0]                  \n",
            "__________________________________________________________________________________________________\n",
            "activation_14 (Activation)      (None, 4, 4, 512)    0           batch_normalization_14[0][0]     \n",
            "__________________________________________________________________________________________________\n",
            "conv2d_17 (Conv2D)              (None, 4, 4, 512)    2359808     activation_14[0][0]              \n",
            "__________________________________________________________________________________________________\n",
            "conv2d_18 (Conv2D)              (None, 4, 4, 512)    131584      activation_13[0][0]              \n",
            "__________________________________________________________________________________________________\n",
            "batch_normalization_15 (BatchNo (None, 4, 4, 512)    2048        conv2d_17[0][0]                  \n",
            "__________________________________________________________________________________________________\n",
            "add_7 (Add)                     (None, 4, 4, 512)    0           conv2d_18[0][0]                  \n",
            "                                                                 batch_normalization_15[0][0]     \n",
            "__________________________________________________________________________________________________\n",
            "activation_15 (Activation)      (None, 4, 4, 512)    0           add_7[0][0]                      \n",
            "__________________________________________________________________________________________________\n",
            "conv2d_19 (Conv2D)              (None, 4, 4, 512)    2359808     activation_15[0][0]              \n",
            "__________________________________________________________________________________________________\n",
            "batch_normalization_16 (BatchNo (None, 4, 4, 512)    2048        conv2d_19[0][0]                  \n",
            "__________________________________________________________________________________________________\n",
            "activation_16 (Activation)      (None, 4, 4, 512)    0           batch_normalization_16[0][0]     \n",
            "__________________________________________________________________________________________________\n",
            "conv2d_20 (Conv2D)              (None, 4, 4, 512)    2359808     activation_16[0][0]              \n",
            "__________________________________________________________________________________________________\n",
            "batch_normalization_17 (BatchNo (None, 4, 4, 512)    2048        conv2d_20[0][0]                  \n",
            "__________________________________________________________________________________________________\n",
            "add_8 (Add)                     (None, 4, 4, 512)    0           activation_15[0][0]              \n",
            "                                                                 batch_normalization_17[0][0]     \n",
            "__________________________________________________________________________________________________\n",
            "activation_17 (Activation)      (None, 4, 4, 512)    0           add_8[0][0]                      \n",
            "__________________________________________________________________________________________________\n",
            "global_average_pooling2d_1 (Glo (None, 512)          0           activation_17[0][0]              \n",
            "__________________________________________________________________________________________________\n",
            "dense_1 (Dense)                 (None, 10)           5130        global_average_pooling2d_1[0][0] \n",
            "==================================================================================================\n",
            "Total params: 11,184,778\n",
            "Trainable params: 11,176,970\n",
            "Non-trainable params: 7,808\n",
            "__________________________________________________________________________________________________\n",
            "ResNet18v1\n"
          ],
          "name": "stdout"
        }
      ]
    },
    {
      "cell_type": "code",
      "metadata": {
        "id": "6dhZyqsOncMA",
        "colab_type": "code",
        "colab": {}
      },
      "source": [
        "# Prepare callbacks for model saving and for learning rate adjustment.\n",
        "checkpoint = ModelCheckpoint(filepath=filepath,\n",
        "                             monitor='val_acc',\n",
        "                             verbose=1,\n",
        "                             save_best_only=True)\n",
        "\n",
        "lr_scheduler = LearningRateScheduler(lr_schedule)\n",
        "\n",
        "lr_reducer = ReduceLROnPlateau(factor=np.sqrt(0.1),\n",
        "                               cooldown=0,\n",
        "                               patience=3,\n",
        "                               min_lr=0.5e-6, monitor='val_loss', verbose=1)\n",
        "callbacks = [checkpoint, lr_reducer]\n"
      ],
      "execution_count": 0,
      "outputs": []
    },
    {
      "cell_type": "code",
      "metadata": {
        "id": "W0VHLnm-notm",
        "colab_type": "code",
        "outputId": "de63cbfc-1e26-4c04-ce79-aca795b9d610",
        "colab": {
          "base_uri": "https://localhost:8080/",
          "height": 1000
        }
      },
      "source": [
        "from keras.preprocessing.image import ImageDataGenerator\n",
        "import time\n",
        "\n",
        "if not data_augmentation:\n",
        "  model_info = model.fit(train_features, train_labels,\n",
        "              batch_size=batch_size,\n",
        "              epochs=epochs,\n",
        "              validation_data=(test_features, test_labels),\n",
        "              shuffle=True,\n",
        "              callbacks=callbacks)\n",
        "else:\n",
        "  datagen = ImageDataGenerator(zoom_range=0.0, \n",
        "                              horizontal_flip=True)\n",
        "  datagen.fit(train_features)\n",
        "\n",
        "\n",
        "  # train the model\n",
        "  start = time.time()\n",
        "  # Train the model\n",
        "  model_info = model.fit_generator(datagen.flow(train_features, train_labels, batch_size = batch_size),\n",
        "                                  samples_per_epoch = train_features.shape[0], nb_epoch = epochs, \n",
        "                                  validation_data = (test_features, test_labels), verbose=1, callbacks=callbacks, shuffle=True,)\n",
        "  end = time.time()\n",
        "\n",
        "  print (\"Model took %0.2f seconds to train\"%(end - start))\n"
      ],
      "execution_count": 0,
      "outputs": [
        {
          "output_type": "stream",
          "text": [
            "WARNING:tensorflow:From /usr/local/lib/python3.6/dist-packages/tensorflow_core/python/ops/math_grad.py:1424: where (from tensorflow.python.ops.array_ops) is deprecated and will be removed in a future version.\n",
            "Instructions for updating:\n",
            "Use tf.where in 2.0, which has the same broadcast rule as np.where\n"
          ],
          "name": "stdout"
        },
        {
          "output_type": "stream",
          "text": [
            "/usr/local/lib/python3.6/dist-packages/ipykernel_launcher.py:22: UserWarning: The semantics of the Keras 2 argument `steps_per_epoch` is not the same as the Keras 1 argument `samples_per_epoch`. `steps_per_epoch` is the number of batches to draw from the generator at each epoch. Basically steps_per_epoch = samples_per_epoch/batch_size. Similarly `nb_val_samples`->`validation_steps` and `val_samples`->`steps` arguments have changed. Update your method calls accordingly.\n",
            "/usr/local/lib/python3.6/dist-packages/ipykernel_launcher.py:22: UserWarning: Update your `fit_generator` call to the Keras 2 API: `fit_generator(<keras_pre..., validation_data=(array([[[..., verbose=1, callbacks=[<keras.ca..., shuffle=True, steps_per_epoch=390, epochs=50)`\n"
          ],
          "name": "stderr"
        },
        {
          "output_type": "stream",
          "text": [
            "WARNING:tensorflow:From /usr/local/lib/python3.6/dist-packages/keras/backend/tensorflow_backend.py:1033: The name tf.assign_add is deprecated. Please use tf.compat.v1.assign_add instead.\n",
            "\n",
            "WARNING:tensorflow:From /usr/local/lib/python3.6/dist-packages/keras/backend/tensorflow_backend.py:1020: The name tf.assign is deprecated. Please use tf.compat.v1.assign instead.\n",
            "\n",
            "Epoch 1/50\n",
            "390/390 [==============================] - 76s 196ms/step - loss: 2.1832 - acc: 0.5430 - val_loss: 2.3832 - val_acc: 0.5054\n",
            "\n",
            "Epoch 00001: val_acc improved from -inf to 0.50540, saving model to /content/saved_models/cifar10_ResNet18v1_model.h5\n",
            "Epoch 2/50\n",
            "390/390 [==============================] - 70s 180ms/step - loss: 1.4818 - acc: 0.7240 - val_loss: 1.5429 - val_acc: 0.6898\n",
            "\n",
            "Epoch 00002: val_acc improved from 0.50540 to 0.68980, saving model to /content/saved_models/cifar10_ResNet18v1_model.h5\n",
            "Epoch 3/50\n",
            "390/390 [==============================] - 71s 181ms/step - loss: 1.2049 - acc: 0.7865 - val_loss: 1.2815 - val_acc: 0.7499\n",
            "\n",
            "Epoch 00003: val_acc improved from 0.68980 to 0.74990, saving model to /content/saved_models/cifar10_ResNet18v1_model.h5\n",
            "Epoch 4/50\n",
            "390/390 [==============================] - 71s 181ms/step - loss: 1.0581 - acc: 0.8162 - val_loss: 1.4422 - val_acc: 0.7089\n",
            "\n",
            "Epoch 00004: val_acc did not improve from 0.74990\n",
            "Epoch 5/50\n",
            "390/390 [==============================] - 71s 181ms/step - loss: 0.9632 - acc: 0.8381 - val_loss: 1.3104 - val_acc: 0.7533\n",
            "\n",
            "Epoch 00005: val_acc improved from 0.74990 to 0.75330, saving model to /content/saved_models/cifar10_ResNet18v1_model.h5\n",
            "Epoch 6/50\n",
            "390/390 [==============================] - 71s 181ms/step - loss: 0.9041 - acc: 0.8541 - val_loss: 1.2314 - val_acc: 0.7547\n",
            "\n",
            "Epoch 00006: val_acc improved from 0.75330 to 0.75470, saving model to /content/saved_models/cifar10_ResNet18v1_model.h5\n",
            "Epoch 7/50\n",
            "390/390 [==============================] - 71s 181ms/step - loss: 0.8590 - acc: 0.8656 - val_loss: 1.1809 - val_acc: 0.7681\n",
            "\n",
            "Epoch 00007: val_acc improved from 0.75470 to 0.76810, saving model to /content/saved_models/cifar10_ResNet18v1_model.h5\n",
            "Epoch 8/50\n",
            "390/390 [==============================] - 71s 181ms/step - loss: 0.8191 - acc: 0.8758 - val_loss: 1.2815 - val_acc: 0.7471\n",
            "\n",
            "Epoch 00008: val_acc did not improve from 0.76810\n",
            "Epoch 9/50\n",
            "390/390 [==============================] - 70s 181ms/step - loss: 0.7913 - acc: 0.8829 - val_loss: 1.0829 - val_acc: 0.7914\n",
            "\n",
            "Epoch 00009: val_acc improved from 0.76810 to 0.79140, saving model to /content/saved_models/cifar10_ResNet18v1_model.h5\n",
            "Epoch 10/50\n",
            "390/390 [==============================] - 71s 181ms/step - loss: 0.7678 - acc: 0.8896 - val_loss: 1.0252 - val_acc: 0.8090\n",
            "\n",
            "Epoch 00010: val_acc improved from 0.79140 to 0.80900, saving model to /content/saved_models/cifar10_ResNet18v1_model.h5\n",
            "Epoch 11/50\n",
            "390/390 [==============================] - 71s 181ms/step - loss: 0.7395 - acc: 0.8980 - val_loss: 1.0076 - val_acc: 0.8132\n",
            "\n",
            "Epoch 00011: val_acc improved from 0.80900 to 0.81320, saving model to /content/saved_models/cifar10_ResNet18v1_model.h5\n",
            "Epoch 12/50\n",
            "390/390 [==============================] - 70s 181ms/step - loss: 0.7122 - acc: 0.9044 - val_loss: 0.9424 - val_acc: 0.8289\n",
            "\n",
            "Epoch 00012: val_acc improved from 0.81320 to 0.82890, saving model to /content/saved_models/cifar10_ResNet18v1_model.h5\n",
            "Epoch 13/50\n",
            "390/390 [==============================] - 71s 181ms/step - loss: 0.6977 - acc: 0.9062 - val_loss: 1.0091 - val_acc: 0.8198\n",
            "\n",
            "Epoch 00013: val_acc did not improve from 0.82890\n",
            "Epoch 14/50\n",
            "390/390 [==============================] - 70s 181ms/step - loss: 0.6805 - acc: 0.9129 - val_loss: 1.0504 - val_acc: 0.8079\n",
            "\n",
            "Epoch 00014: val_acc did not improve from 0.82890\n",
            "Epoch 15/50\n",
            "390/390 [==============================] - 71s 181ms/step - loss: 0.6650 - acc: 0.9163 - val_loss: 1.1207 - val_acc: 0.7972\n",
            "\n",
            "Epoch 00015: val_acc did not improve from 0.82890\n",
            "\n",
            "Epoch 00015: ReduceLROnPlateau reducing learning rate to 0.00031622778103685084.\n",
            "Epoch 16/50\n",
            "390/390 [==============================] - 71s 181ms/step - loss: 0.5213 - acc: 0.9612 - val_loss: 0.7314 - val_acc: 0.8907\n",
            "\n",
            "Epoch 00016: val_acc improved from 0.82890 to 0.89070, saving model to /content/saved_models/cifar10_ResNet18v1_model.h5\n",
            "Epoch 17/50\n",
            "390/390 [==============================] - 71s 181ms/step - loss: 0.4374 - acc: 0.9773 - val_loss: 0.7796 - val_acc: 0.8726\n",
            "\n",
            "Epoch 00017: val_acc did not improve from 0.89070\n",
            "Epoch 18/50\n",
            "390/390 [==============================] - 71s 182ms/step - loss: 0.3974 - acc: 0.9810 - val_loss: 0.7813 - val_acc: 0.8728\n",
            "\n",
            "Epoch 00018: val_acc did not improve from 0.89070\n",
            "Epoch 19/50\n",
            "390/390 [==============================] - 71s 182ms/step - loss: 0.3728 - acc: 0.9821 - val_loss: 0.7874 - val_acc: 0.8745\n",
            "\n",
            "Epoch 00019: val_acc did not improve from 0.89070\n",
            "\n",
            "Epoch 00019: ReduceLROnPlateau reducing learning rate to 0.00010000000639606199.\n",
            "Epoch 20/50\n",
            "390/390 [==============================] - 71s 182ms/step - loss: 0.3328 - acc: 0.9919 - val_loss: 0.6695 - val_acc: 0.9008\n",
            "\n",
            "Epoch 00020: val_acc improved from 0.89070 to 0.90080, saving model to /content/saved_models/cifar10_ResNet18v1_model.h5\n",
            "Epoch 21/50\n",
            "390/390 [==============================] - 71s 182ms/step - loss: 0.3088 - acc: 0.9966 - val_loss: 0.6819 - val_acc: 0.8972\n",
            "\n",
            "Epoch 00021: val_acc did not improve from 0.90080\n",
            "Epoch 22/50\n",
            "390/390 [==============================] - 71s 182ms/step - loss: 0.2927 - acc: 0.9981 - val_loss: 0.6838 - val_acc: 0.9004\n",
            "\n",
            "Epoch 00022: val_acc did not improve from 0.90080\n",
            "Epoch 23/50\n",
            "390/390 [==============================] - 71s 181ms/step - loss: 0.2784 - acc: 0.9986 - val_loss: 0.6922 - val_acc: 0.8994\n",
            "\n",
            "Epoch 00023: val_acc did not improve from 0.90080\n",
            "\n",
            "Epoch 00023: ReduceLROnPlateau reducing learning rate to 3.1622778103685084e-05.\n",
            "Epoch 24/50\n",
            "390/390 [==============================] - 71s 181ms/step - loss: 0.2682 - acc: 0.9992 - val_loss: 0.6806 - val_acc: 0.9019\n",
            "\n",
            "Epoch 00024: val_acc improved from 0.90080 to 0.90190, saving model to /content/saved_models/cifar10_ResNet18v1_model.h5\n",
            "Epoch 25/50\n",
            "390/390 [==============================] - 71s 182ms/step - loss: 0.2622 - acc: 0.9996 - val_loss: 0.6810 - val_acc: 0.9028\n",
            "\n",
            "Epoch 00025: val_acc improved from 0.90190 to 0.90280, saving model to /content/saved_models/cifar10_ResNet18v1_model.h5\n",
            "Epoch 26/50\n",
            "390/390 [==============================] - 71s 182ms/step - loss: 0.2561 - acc: 0.9998 - val_loss: 0.6903 - val_acc: 0.9039\n",
            "\n",
            "Epoch 00026: val_acc improved from 0.90280 to 0.90390, saving model to /content/saved_models/cifar10_ResNet18v1_model.h5\n",
            "\n",
            "Epoch 00026: ReduceLROnPlateau reducing learning rate to 1.0000000409520217e-05.\n",
            "Epoch 27/50\n",
            "390/390 [==============================] - 71s 182ms/step - loss: 0.2520 - acc: 0.9999 - val_loss: 0.6894 - val_acc: 0.9048\n",
            "\n",
            "Epoch 00027: val_acc improved from 0.90390 to 0.90480, saving model to /content/saved_models/cifar10_ResNet18v1_model.h5\n",
            "Epoch 28/50\n",
            "390/390 [==============================] - 71s 181ms/step - loss: 0.2497 - acc: 0.9999 - val_loss: 0.6921 - val_acc: 0.9047\n",
            "\n",
            "Epoch 00028: val_acc did not improve from 0.90480\n",
            "Epoch 29/50\n",
            "390/390 [==============================] - 71s 182ms/step - loss: 0.2472 - acc: 0.9999 - val_loss: 0.6956 - val_acc: 0.9048\n",
            "\n",
            "Epoch 00029: val_acc did not improve from 0.90480\n",
            "\n",
            "Epoch 00029: ReduceLROnPlateau reducing learning rate to 3.1622778678900043e-06.\n",
            "Epoch 30/50\n",
            "390/390 [==============================] - 71s 182ms/step - loss: 0.2453 - acc: 1.0000 - val_loss: 0.6967 - val_acc: 0.9048\n",
            "\n",
            "Epoch 00030: val_acc did not improve from 0.90480\n",
            "Epoch 31/50\n",
            "390/390 [==============================] - 71s 182ms/step - loss: 0.2443 - acc: 1.0000 - val_loss: 0.6978 - val_acc: 0.9046\n",
            "\n",
            "Epoch 00031: val_acc did not improve from 0.90480\n",
            "Epoch 32/50\n",
            "390/390 [==============================] - 71s 181ms/step - loss: 0.2431 - acc: 1.0000 - val_loss: 0.7009 - val_acc: 0.9046\n",
            "\n",
            "Epoch 00032: val_acc did not improve from 0.90480\n",
            "\n",
            "Epoch 00032: ReduceLROnPlateau reducing learning rate to 1.0000000553323957e-06.\n",
            "Epoch 33/50\n",
            "390/390 [==============================] - 71s 182ms/step - loss: 0.2423 - acc: 1.0000 - val_loss: 0.7010 - val_acc: 0.9050\n",
            "\n",
            "Epoch 00033: val_acc improved from 0.90480 to 0.90500, saving model to /content/saved_models/cifar10_ResNet18v1_model.h5\n",
            "Epoch 34/50\n",
            "390/390 [==============================] - 71s 182ms/step - loss: 0.2417 - acc: 1.0000 - val_loss: 0.7010 - val_acc: 0.9052\n",
            "\n",
            "Epoch 00034: val_acc improved from 0.90500 to 0.90520, saving model to /content/saved_models/cifar10_ResNet18v1_model.h5\n",
            "Epoch 35/50\n",
            "390/390 [==============================] - 71s 182ms/step - loss: 0.2413 - acc: 1.0000 - val_loss: 0.7017 - val_acc: 0.9042\n",
            "\n",
            "Epoch 00035: val_acc did not improve from 0.90520\n",
            "\n",
            "Epoch 00035: ReduceLROnPlateau reducing learning rate to 5e-07.\n",
            "Epoch 36/50\n",
            "390/390 [==============================] - 71s 182ms/step - loss: 0.2409 - acc: 1.0000 - val_loss: 0.7013 - val_acc: 0.9056\n",
            "\n",
            "Epoch 00036: val_acc improved from 0.90520 to 0.90560, saving model to /content/saved_models/cifar10_ResNet18v1_model.h5\n",
            "Epoch 37/50\n",
            "390/390 [==============================] - 71s 182ms/step - loss: 0.2406 - acc: 1.0000 - val_loss: 0.7018 - val_acc: 0.9053\n",
            "\n",
            "Epoch 00037: val_acc did not improve from 0.90560\n",
            "Epoch 38/50\n",
            "390/390 [==============================] - 71s 182ms/step - loss: 0.2403 - acc: 1.0000 - val_loss: 0.7012 - val_acc: 0.9052\n",
            "\n",
            "Epoch 00038: val_acc did not improve from 0.90560\n",
            "Epoch 39/50\n",
            "390/390 [==============================] - 71s 182ms/step - loss: 0.2399 - acc: 1.0000 - val_loss: 0.7018 - val_acc: 0.9052\n",
            "\n",
            "Epoch 00039: val_acc did not improve from 0.90560\n",
            "Epoch 40/50\n",
            "390/390 [==============================] - 71s 182ms/step - loss: 0.2396 - acc: 1.0000 - val_loss: 0.7018 - val_acc: 0.9048\n",
            "\n",
            "Epoch 00040: val_acc did not improve from 0.90560\n",
            "Epoch 41/50\n",
            "390/390 [==============================] - 71s 182ms/step - loss: 0.2393 - acc: 1.0000 - val_loss: 0.7027 - val_acc: 0.9052\n",
            "\n",
            "Epoch 00041: val_acc did not improve from 0.90560\n",
            "Epoch 42/50\n",
            "390/390 [==============================] - 71s 182ms/step - loss: 0.2390 - acc: 1.0000 - val_loss: 0.7017 - val_acc: 0.9052\n",
            "\n",
            "Epoch 00042: val_acc did not improve from 0.90560\n",
            "Epoch 43/50\n",
            "390/390 [==============================] - 71s 182ms/step - loss: 0.2385 - acc: 1.0000 - val_loss: 0.7024 - val_acc: 0.9050\n",
            "\n",
            "Epoch 00043: val_acc did not improve from 0.90560\n",
            "Epoch 44/50\n",
            "390/390 [==============================] - 71s 182ms/step - loss: 0.2382 - acc: 1.0000 - val_loss: 0.7017 - val_acc: 0.9051\n",
            "\n",
            "Epoch 00044: val_acc did not improve from 0.90560\n",
            "Epoch 45/50\n",
            "390/390 [==============================] - 71s 182ms/step - loss: 0.2378 - acc: 1.0000 - val_loss: 0.7027 - val_acc: 0.9054\n",
            "\n",
            "Epoch 00045: val_acc did not improve from 0.90560\n",
            "Epoch 46/50\n",
            "390/390 [==============================] - 71s 181ms/step - loss: 0.2374 - acc: 1.0000 - val_loss: 0.7020 - val_acc: 0.9046\n",
            "\n",
            "Epoch 00046: val_acc did not improve from 0.90560\n",
            "Epoch 47/50\n",
            "390/390 [==============================] - 71s 182ms/step - loss: 0.2372 - acc: 1.0000 - val_loss: 0.7030 - val_acc: 0.9048\n",
            "\n",
            "Epoch 00047: val_acc did not improve from 0.90560\n",
            "Epoch 48/50\n",
            "390/390 [==============================] - 71s 182ms/step - loss: 0.2367 - acc: 1.0000 - val_loss: 0.7029 - val_acc: 0.9049\n",
            "\n",
            "Epoch 00048: val_acc did not improve from 0.90560\n",
            "Epoch 49/50\n",
            "390/390 [==============================] - 71s 182ms/step - loss: 0.2364 - acc: 1.0000 - val_loss: 0.7036 - val_acc: 0.9048\n",
            "\n",
            "Epoch 00049: val_acc did not improve from 0.90560\n",
            "Epoch 50/50\n",
            "390/390 [==============================] - 71s 182ms/step - loss: 0.2360 - acc: 1.0000 - val_loss: 0.7032 - val_acc: 0.9051\n",
            "\n",
            "Epoch 00050: val_acc did not improve from 0.90560\n",
            "Model took 3557.56 seconds to train\n"
          ],
          "name": "stdout"
        }
      ]
    },
    {
      "cell_type": "code",
      "metadata": {
        "id": "cYGXkiLbqHmD",
        "colab_type": "code",
        "colab": {}
      },
      "source": [
        "def plot_model_history(model_history):\n",
        "    fig, axs = plt.subplots(1,2,figsize=(15,5))\n",
        "    # summarize history for accuracy\n",
        "    axs[0].plot(range(1,len(model_history.history['acc'])+1),model_history.history['acc'])\n",
        "    axs[0].plot(range(1,len(model_history.history['val_acc'])+1),model_history.history['val_acc'])\n",
        "    axs[0].set_title('Model Accuracy')\n",
        "    axs[0].set_ylabel('Accuracy')\n",
        "    axs[0].set_xlabel('Epoch')\n",
        "    axs[0].set_xticks(np.arange(1,len(model_history.history['acc'])+1),len(model_history.history['acc'])/10)\n",
        "    axs[0].legend(['train', 'val'], loc='best')\n",
        "    # summarize history for loss\n",
        "    axs[1].plot(range(1,len(model_history.history['loss'])+1),model_history.history['loss'])\n",
        "    axs[1].plot(range(1,len(model_history.history['val_loss'])+1),model_history.history['val_loss'])\n",
        "    axs[1].set_title('Model Loss')\n",
        "    axs[1].set_ylabel('Loss')\n",
        "    axs[1].set_xlabel('Epoch')\n",
        "    axs[1].set_xticks(np.arange(1,len(model_history.history['loss'])+1),len(model_history.history['loss'])/10)\n",
        "    axs[1].legend(['train', 'val'], loc='best')\n",
        "    plt.show()"
      ],
      "execution_count": 0,
      "outputs": []
    },
    {
      "cell_type": "code",
      "metadata": {
        "id": "-08bB_OiyfZg",
        "colab_type": "code",
        "outputId": "dbdf85d0-c986-4db6-aa36-536f2d84125a",
        "colab": {
          "base_uri": "https://localhost:8080/",
          "height": 350
        }
      },
      "source": [
        "plot_model_history(model_info)"
      ],
      "execution_count": 0,
      "outputs": [
        {
          "output_type": "display_data",
          "data": {
            "image/png": "[encoded data removed]",
            "text/plain": [
              "<Figure size 1080x360 with 2 Axes>"
            ]
          },
          "metadata": {
            "tags": []
          }
        }
      ]
    },
    {
      "cell_type": "markdown",
      "metadata": {
        "id": "68XmGr8d-P8u",
        "colab_type": "text"
      },
      "source": [
        "#**Grad CAM**"
      ]
    },
    {
      "cell_type": "code",
      "metadata": {
        "id": "KhRxzpne-Y0C",
        "colab_type": "code",
        "colab": {}
      },
      "source": [
        "from keras.applications.vgg16 import VGG16, preprocess_input, decode_predictions\n",
        "from keras.preprocessing import image\n",
        "import numpy as np\n",
        "import cv2"
      ],
      "execution_count": 0,
      "outputs": []
    },
    {
      "cell_type": "code",
      "metadata": {
        "id": "gwWVnkSX-lQ6",
        "colab_type": "code",
        "colab": {}
      },
      "source": [
        "from skimage import io\n",
        "dog = io.imread(\"https://www.rspcapetinsurance.org.au/rspca/media/images/hero/dog-insurance-hero.jpg\")\n",
        "dog = cv2.resize(dog, dsize=(32, 32), interpolation=cv2.INTER_CUBIC)\n",
        "x = image.img_to_array(dog)\n",
        "x = np.expand_dims(x, axis=0)\n",
        "x = preprocess_input(x)"
      ],
      "execution_count": 0,
      "outputs": []
    },
    {
      "cell_type": "code",
      "metadata": {
        "id": "xlzOHcMPywvY",
        "colab_type": "code",
        "colab": {}
      },
      "source": [
        "model.load_weights(filepath)"
      ],
      "execution_count": 0,
      "outputs": []
    },
    {
      "cell_type": "code",
      "metadata": {
        "id": "J-kyf45V-vh2",
        "colab_type": "code",
        "outputId": "007b6b75-e2fc-4139-be8a-ff45c35e05ab",
        "colab": {
          "base_uri": "https://localhost:8080/",
          "height": 34
        }
      },
      "source": [
        "preds = model.predict(x)\n",
        "class_idx = np.argmax(preds[0])\n",
        "print(class_idx)\n",
        "class_output = model.output[:, class_idx]\n",
        "last_conv_layer = model.get_layer(\"conv2d_20\")"
      ],
      "execution_count": 0,
      "outputs": [
        {
          "output_type": "stream",
          "text": [
            "1\n"
          ],
          "name": "stdout"
        }
      ]
    },
    {
      "cell_type": "code",
      "metadata": {
        "id": "iCKlV56WHY8e",
        "colab_type": "code",
        "outputId": "5d3cb5fa-3af4-4b19-a70c-115742b38930",
        "colab": {
          "base_uri": "https://localhost:8080/"
        }
      },
      "source": [
        "class_output"
      ],
      "execution_count": 0,
      "outputs": [
        {
          "output_type": "execute_result",
          "data": {
            "text/plain": [
              "<tf.Tensor 'strided_slice:0' shape=(?,) dtype=float32>"
            ]
          },
          "metadata": {
            "tags": []
          },
          "execution_count": 18
        }
      ]
    },
    {
      "cell_type": "code",
      "metadata": {
        "id": "EuCEpQRE-7My",
        "colab_type": "code",
        "outputId": "d0d87ab1-4be9-4bd7-e2b0-adf121e46f19",
        "colab": {
          "base_uri": "https://localhost:8080/"
        }
      },
      "source": [
        "grads = K.gradients(class_output, last_conv_layer.output)[0]\n",
        "print(grads.shape)\n",
        "pooled_grads = K.mean(grads, axis=(0, 1, 2))\n",
        "print(pooled_grads.shape)\n",
        "iterate = K.function([model.input], [pooled_grads, last_conv_layer.output[0]])\n",
        "\n",
        "pooled_grads_value, conv_layer_output_value = iterate([x])\n",
        "\n",
        "for i in range(512):\n",
        "  conv_layer_output_value[:, :, i] *= pooled_grads_value[i]"
      ],
      "execution_count": 0,
      "outputs": [
        {
          "output_type": "stream",
          "text": [
            "(?, 4, 4, 512)\n",
            "(512,)\n"
          ],
          "name": "stdout"
        }
      ]
    },
    {
      "cell_type": "code",
      "metadata": {
        "id": "hj1_LPIFC1Gb",
        "colab_type": "code",
        "outputId": "ecc06aaa-0749-4056-fc64-c448d198b645",
        "colab": {
          "base_uri": "https://localhost:8080/"
        }
      },
      "source": [
        "pooled_grads"
      ],
      "execution_count": 0,
      "outputs": [
        {
          "output_type": "execute_result",
          "data": {
            "text/plain": [
              "<tf.Tensor 'Mean:0' shape=(512,) dtype=float32>"
            ]
          },
          "metadata": {
            "tags": []
          },
          "execution_count": 20
        }
      ]
    },
    {
      "cell_type": "code",
      "metadata": {
        "id": "UX_IPgVTDAur",
        "colab_type": "code",
        "outputId": "0bf18090-8cb8-4f3a-d111-d6ec7b127b3b",
        "colab": {
          "base_uri": "https://localhost:8080/"
        }
      },
      "source": [
        "pooled_grads.shape"
      ],
      "execution_count": 0,
      "outputs": [
        {
          "output_type": "execute_result",
          "data": {
            "text/plain": [
              "TensorShape([Dimension(512)])"
            ]
          },
          "metadata": {
            "tags": []
          },
          "execution_count": 21
        }
      ]
    },
    {
      "cell_type": "code",
      "metadata": {
        "id": "i8iGu7s5C0fC",
        "colab_type": "code",
        "colab": {}
      },
      "source": [
        "heatmap = np.mean(conv_layer_output_value, axis = -1)"
      ],
      "execution_count": 0,
      "outputs": []
    },
    {
      "cell_type": "code",
      "metadata": {
        "id": "5bHKUI0cDSbA",
        "colab_type": "code",
        "outputId": "0ac05b68-f1a8-4b81-d370-046d7e08bd08",
        "colab": {
          "base_uri": "https://localhost:8080/"
        }
      },
      "source": [
        "np.maximum(heatmap, 0)\n"
      ],
      "execution_count": 0,
      "outputs": [
        {
          "output_type": "execute_result",
          "data": {
            "text/plain": [
              "array([[0., 0., 0., 0.],\n",
              "       [0., 0., 0., 0.],\n",
              "       [0., 0., 0., 0.],\n",
              "       [0., 0., 0., 0.]], dtype=float32)"
            ]
          },
          "metadata": {
            "tags": []
          },
          "execution_count": 23
        }
      ]
    },
    {
      "cell_type": "code",
      "metadata": {
        "id": "3nu1EwLFCfUM",
        "colab_type": "code",
        "outputId": "6c1c5047-987c-4467-c94b-472547bd0234",
        "colab": {
          "base_uri": "https://localhost:8080/"
        }
      },
      "source": [
        "conv_layer_output_value.shape"
      ],
      "execution_count": 0,
      "outputs": [
        {
          "output_type": "execute_result",
          "data": {
            "text/plain": [
              "(4, 4, 512)"
            ]
          },
          "metadata": {
            "tags": []
          },
          "execution_count": 24
        }
      ]
    },
    {
      "cell_type": "code",
      "metadata": {
        "id": "m3xa4vO3CUS5",
        "colab_type": "code",
        "outputId": "7aa125f4-8554-498f-8631-20910cdbea93",
        "colab": {
          "base_uri": "https://localhost:8080/"
        }
      },
      "source": [
        "heatmap = np.mean(conv_layer_output_value, axis = -1)\n",
        "print(conv_layer_output_value.shape)\n",
        "print(heatmap.shape)\n",
        "heatmap = np.maximum(heatmap, 0)\n",
        "heatmap /= np.max(heatmap)"
      ],
      "execution_count": 0,
      "outputs": [
        {
          "output_type": "stream",
          "text": [
            "(4, 4, 512)\n",
            "(4, 4)\n"
          ],
          "name": "stdout"
        },
        {
          "output_type": "stream",
          "text": [
            "/usr/local/lib/python3.6/dist-packages/ipykernel_launcher.py:5: RuntimeWarning: invalid value encountered in true_divide\n",
            "  \"\"\"\n"
          ],
          "name": "stderr"
        }
      ]
    },
    {
      "cell_type": "code",
      "metadata": {
        "id": "UJexqZ2ACbpy",
        "colab_type": "code",
        "outputId": "e9f8771e-438d-494a-8999-8e41634dab28",
        "colab": {
          "base_uri": "https://localhost:8080/"
        }
      },
      "source": [
        "np.max(heatmap)"
      ],
      "execution_count": 0,
      "outputs": [
        {
          "output_type": "execute_result",
          "data": {
            "text/plain": [
              "nan"
            ]
          },
          "metadata": {
            "tags": []
          },
          "execution_count": 26
        }
      ]
    },
    {
      "cell_type": "code",
      "metadata": {
        "id": "Tm2OPnJu_NqW",
        "colab_type": "code",
        "outputId": "dfc49108-1609-4fc3-f344-5858e594533b",
        "colab": {
          "base_uri": "https://localhost:8080/",
          "height": 81
        }
      },
      "source": [
        "heatmap = cv2.resize(heatmap, (dog.shape[1], dog.shape[0]))\n",
        "heatmap = np.uint8(255 * heatmap)\n",
        "heatmap = cv2.applyColorMap(heatmap, cv2.COLORMAP_JET)\n",
        "superimposed_img = cv2.addWeighted(dog, 0.5, heatmap, 0.5, 0)\n",
        "from google.colab.patches import cv2_imshow\n",
        "cv2_imshow( dog)\n",
        "cv2_imshow(superimposed_img)"
      ],
      "execution_count": 0,
      "outputs": [
        {
          "output_type": "display_data",
          "data": {
            "image/png": "[encoded data removed]",
            "text/plain": [
              "<PIL.Image.Image image mode=RGB size=32x32 at 0x7F5A46B869E8>"
            ]
          },
          "metadata": {
            "tags": []
          }
        },
        {
          "output_type": "display_data",
          "data": {
            "image/png": "[encoded data removed]",
            "text/plain": [
              "<PIL.Image.Image image mode=RGB size=32x32 at 0x7F5A46B86A90>"
            ]
          },
          "metadata": {
            "tags": []
          }
        }
      ]
    },
    {
      "cell_type": "code",
      "metadata": {
        "id": "1ZN1Y5_6J32c",
        "colab_type": "code",
        "outputId": "76ca93b5-ac08-435e-cf49-34c1942f663c",
        "colab": {
          "base_uri": "https://localhost:8080/",
          "height": 416
        }
      },
      "source": [
        "cv2_imshow(cv2.resize(dog, (200, 200)))\n",
        "cv2_imshow(cv2.resize(superimposed_img, (200, 200)))"
      ],
      "execution_count": 0,
      "outputs": [
        {
          "output_type": "display_data",
          "data": {
            "image/png": "[encoded data removed]",
            "text/plain": [
              "<PIL.Image.Image image mode=RGB size=200x200 at 0x7F5BD538EB70>"
            ]
          },
          "metadata": {
            "tags": []
          }
        },
        {
          "output_type": "display_data",
          "data": {
            "image/png": "[encoded data removed]",
            "text/plain": [
              "<PIL.Image.Image image mode=RGB size=200x200 at 0x7F5A46B892B0>"
            ]
          },
          "metadata": {
            "tags": []
          }
        }
      ]
    },
    {
      "cell_type": "code",
      "metadata": {
        "id": "Coys6-UAJ5Qq",
        "colab_type": "code",
        "colab": {}
      },
      "source": [
        ""
      ],
      "execution_count": 0,
      "outputs": []
    }
  ]
}
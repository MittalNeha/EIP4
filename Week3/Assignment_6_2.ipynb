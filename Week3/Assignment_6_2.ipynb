{
  "nbformat": 4,
  "nbformat_minor": 0,
  "metadata": {
    "colab": {
      "name": "Assignment 6 - 2.ipynb",
      "provenance": [],
      "collapsed_sections": [],
      "include_colab_link": true
    },
    "kernelspec": {
      "name": "python3",
      "display_name": "Python 3"
    },
    "accelerator": "GPU"
  },
  "cells": [
    {
      "cell_type": "markdown",
      "metadata": {
        "id": "view-in-github",
        "colab_type": "text"
      },
      "source": [
        "<a href=\"https://colab.research.google.com/github/MittalNeha/EIP4/blob/master/Week3/Assignment_6_2.ipynb\" target=\"_parent\"><img src=\"https://colab.research.google.com/assets/colab-badge.svg\" alt=\"Open In Colab\"/></a>"
      ]
    },
    {
      "cell_type": "markdown",
      "metadata": {
        "id": "rWzLdziMA5Xh",
        "colab_type": "text"
      },
      "source": [
        "\n",
        "\n",
        "```\n",
        "Target for model\n",
        "\n",
        "390/390 [==============================] - 21s 53ms/step - loss: 0.3320 - acc: 0.8873 - val_loss: 0.5964 - val_acc: 0.8226\n",
        "```\n",
        "\n"
      ]
    },
    {
      "cell_type": "code",
      "metadata": {
        "id": "KkwXnw9OfHZl",
        "colab_type": "code",
        "colab": {}
      },
      "source": [
        "from keras import backend as K\n",
        "import time\n",
        "import matplotlib.pyplot as plt\n",
        "import numpy as np\n",
        "% matplotlib inline\n",
        "np.random.seed(2017) \n",
        "from keras.models import Sequential\n",
        "from keras.layers.convolutional import Convolution2D, MaxPooling2D\n",
        "from keras.layers import Activation, Flatten, Dense, Dropout\n",
        "from keras.layers.normalization import BatchNormalization\n",
        "from keras.utils import np_utils\n",
        "from keras.layers import SeparableConv2D\n",
        "from keras.layers import GlobalMaxPooling2D\n",
        "from keras.layers import GlobalAveragePooling2D"
      ],
      "execution_count": 0,
      "outputs": []
    },
    {
      "cell_type": "code",
      "metadata": {
        "id": "ZcpuSMScGr0D",
        "colab_type": "code",
        "colab": {}
      },
      "source": [
        "from keras.datasets import cifar10"
      ],
      "execution_count": 0,
      "outputs": []
    },
    {
      "cell_type": "code",
      "metadata": {
        "id": "NHpnoCHZfO8g",
        "colab_type": "code",
        "colab": {}
      },
      "source": [
        "from keras.datasets import cifar10\n",
        "(train_features, train_labels), (test_features, test_labels) = cifar10.load_data()\n",
        "num_train, img_channels, img_rows, img_cols =  train_features.shape\n",
        "num_test, _, _, _ =  test_features.shape\n",
        "num_classes = len(np.unique(train_labels))"
      ],
      "execution_count": 0,
      "outputs": []
    },
    {
      "cell_type": "code",
      "metadata": {
        "id": "KZmuKa6lpCHs",
        "colab_type": "code",
        "outputId": "65b1ead3-cf2e-479c-bb64-264170a301d1",
        "colab": {
          "base_uri": "https://localhost:8080/",
          "height": 34
        }
      },
      "source": [
        "train_labels.shape"
      ],
      "execution_count": 9,
      "outputs": [
        {
          "output_type": "execute_result",
          "data": {
            "text/plain": [
              "(50000, 1)"
            ]
          },
          "metadata": {
            "tags": []
          },
          "execution_count": 9
        }
      ]
    },
    {
      "cell_type": "code",
      "metadata": {
        "id": "KolAy1yBpFxM",
        "colab_type": "code",
        "outputId": "1f4aa2f9-a15d-41c1-d98e-06d95a5a470a",
        "colab": {
          "base_uri": "https://localhost:8080/",
          "height": 34
        }
      },
      "source": [
        "test_labels.shape"
      ],
      "execution_count": 10,
      "outputs": [
        {
          "output_type": "execute_result",
          "data": {
            "text/plain": [
              "(10000, 1)"
            ]
          },
          "metadata": {
            "tags": []
          },
          "execution_count": 10
        }
      ]
    },
    {
      "cell_type": "code",
      "metadata": {
        "id": "14HyBUXdfS6G",
        "colab_type": "code",
        "outputId": "1a10cd88-7c8d-4df0-bb9a-d7e20503c8c4",
        "colab": {
          "base_uri": "https://localhost:8080/",
          "height": 213
        }
      },
      "source": [
        "class_names = ['airplane','automobile','bird','cat','deer',\n",
        "               'dog','frog','horse','ship','truck']\n",
        "fig = plt.figure(figsize=(8,3))\n",
        "for i in range(num_classes):\n",
        "    ax = fig.add_subplot(2, 5, 1 + i, xticks=[], yticks=[])\n",
        "    idx = np.where(train_labels[:]==i)[0]\n",
        "    features_idx = train_features[idx,::]\n",
        "    img_num = np.random.randint(features_idx.shape[0])\n",
        "    im = features_idx[img_num]\n",
        "    ax.set_title(class_names[i])\n",
        "    plt.imshow(im)\n",
        "plt.show()"
      ],
      "execution_count": 11,
      "outputs": [
        {
          "output_type": "display_data",
          "data": {
            "image/png": "[encoded data removed]",
            "text/plain": [
              "<Figure size 576x216 with 10 Axes>"
            ]
          },
          "metadata": {
            "tags": []
          }
        }
      ]
    },
    {
      "cell_type": "code",
      "metadata": {
        "id": "bmfsk76-fadV",
        "colab_type": "code",
        "colab": {}
      },
      "source": [
        "def plot_model_history(model_history):\n",
        "    fig, axs = plt.subplots(1,2,figsize=(15,5))\n",
        "    # summarize history for accuracy\n",
        "    axs[0].plot(range(1,len(model_history.history['acc'])+1),model_history.history['acc'])\n",
        "    axs[0].plot(range(1,len(model_history.history['val_acc'])+1),model_history.history['val_acc'])\n",
        "    axs[0].set_title('Model Accuracy')\n",
        "    axs[0].set_ylabel('Accuracy')\n",
        "    axs[0].set_xlabel('Epoch')\n",
        "    axs[0].set_xticks(np.arange(1,len(model_history.history['acc'])+1),len(model_history.history['acc'])/10)\n",
        "    axs[0].legend(['train', 'val'], loc='best')\n",
        "    # summarize history for loss\n",
        "    axs[1].plot(range(1,len(model_history.history['loss'])+1),model_history.history['loss'])\n",
        "    axs[1].plot(range(1,len(model_history.history['val_loss'])+1),model_history.history['val_loss'])\n",
        "    axs[1].set_title('Model Loss')\n",
        "    axs[1].set_ylabel('Loss')\n",
        "    axs[1].set_xlabel('Epoch')\n",
        "    axs[1].set_xticks(np.arange(1,len(model_history.history['loss'])+1),len(model_history.history['loss'])/10)\n",
        "    axs[1].legend(['train', 'val'], loc='best')\n",
        "    plt.show()"
      ],
      "execution_count": 0,
      "outputs": []
    },
    {
      "cell_type": "code",
      "metadata": {
        "id": "YJMT4rjgfdZz",
        "colab_type": "code",
        "colab": {}
      },
      "source": [
        "def accuracy(test_x, test_y, model):\n",
        "    result = model.predict(test_x)\n",
        "    predicted_class = np.argmax(result, axis=1)\n",
        "    true_class = np.argmax(test_y, axis=1)\n",
        "    num_correct = np.sum(predicted_class == true_class) \n",
        "    accuracy = float(num_correct)/result.shape[0]\n",
        "    return (accuracy * 100)"
      ],
      "execution_count": 0,
      "outputs": []
    },
    {
      "cell_type": "code",
      "metadata": {
        "id": "hBpAhmdlpVqy",
        "colab_type": "code",
        "outputId": "d8a84669-1331-42c2-db5e-542e5006f66e",
        "colab": {
          "base_uri": "https://localhost:8080/",
          "height": 34
        }
      },
      "source": [
        "train_labels[0]"
      ],
      "execution_count": 14,
      "outputs": [
        {
          "output_type": "execute_result",
          "data": {
            "text/plain": [
              "array([6], dtype=uint8)"
            ]
          },
          "metadata": {
            "tags": []
          },
          "execution_count": 14
        }
      ]
    },
    {
      "cell_type": "code",
      "metadata": {
        "id": "T5c5nDvxm6zR",
        "colab_type": "code",
        "colab": {}
      },
      "source": [
        "train_features = train_features.astype('float32')/255\n",
        "test_features = test_features.astype('float32')/255\n",
        "# convert class labels to binary class labels\n",
        "train_labels = np_utils.to_categorical(train_labels, num_classes)\n",
        "test_labels = np_utils.to_categorical(test_labels, num_classes)"
      ],
      "execution_count": 0,
      "outputs": []
    },
    {
      "cell_type": "code",
      "metadata": {
        "id": "6vP8puQHgyy5",
        "colab_type": "code",
        "outputId": "11461095-6f64-4ee7-eeb7-13579333650d",
        "colab": {
          "base_uri": "https://localhost:8080/",
          "height": 547
        }
      },
      "source": [
        "model = Sequential()\n",
        "\n",
        "model.add(SeparableConv2D(32, kernel_size=(3,3), activation='relu', padding='same', input_shape=(32,32,3))) #32,32,32\n",
        "model.add(BatchNormalization())\n",
        "model.add(Dropout(0.1))\n",
        "model.add(SeparableConv2D(64, kernel_size=(3,3), activation='relu', padding='same')) #32,32,64\n",
        "model.add(BatchNormalization())\n",
        "model.add(Dropout(0.1))\n",
        "\n",
        "model.add(MaxPooling2D(2,2))  #16, 16, 64\n",
        "\n",
        "model.add(Convolution2D(32, 1,1, activation='relu', border_mode='same')) #16, 16, 32\n",
        "model.add(BatchNormalization())\n",
        "model.add(Dropout(0.1))\n",
        "\n",
        "model.add(SeparableConv2D(64, kernel_size=(3,3), activation='relu', padding='same')) #16, 16, 64\n",
        "model.add(BatchNormalization())\n",
        "model.add(Dropout(0.1))\n",
        "model.add(SeparableConv2D(128, kernel_size=(3,3), activation='relu', padding='same')) #16, 16, 128\n",
        "model.add(BatchNormalization())\n",
        "model.add(Dropout(0.1))\n",
        "\n",
        "model.add(MaxPooling2D(2,2))  #8,8,128\n",
        "\n",
        "model.add(Convolution2D(64, 1,1, activation='relu', border_mode='same')) #8,8,64\n",
        "model.add(BatchNormalization())\n",
        "model.add(Dropout(0.1))\n",
        "\n",
        "model.add(SeparableConv2D(128, kernel_size=(3,3), activation='relu', padding='same')) # 8,8,128\n",
        "model.add(BatchNormalization())\n",
        "model.add(Dropout(0.1))\n",
        "model.add(SeparableConv2D(256, kernel_size=(3,3), activation='relu', padding='same')) #8,8,256\n",
        "model.add(BatchNormalization())\n",
        "model.add(Dropout(0.5))\n",
        "\n",
        "model.add(Convolution2D(num_classes, 1, activation='relu', padding='same')) #8,8,10\n",
        "model.add(BatchNormalization())\n",
        "\n",
        "model.add(GlobalAveragePooling2D()) #1,1,10\n",
        "\n",
        "model.add(Activation('softmax'))"
      ],
      "execution_count": 16,
      "outputs": [
        {
          "output_type": "stream",
          "text": [
            "WARNING:tensorflow:From /usr/local/lib/python3.6/dist-packages/keras/backend/tensorflow_backend.py:66: The name tf.get_default_graph is deprecated. Please use tf.compat.v1.get_default_graph instead.\n",
            "\n",
            "WARNING:tensorflow:From /usr/local/lib/python3.6/dist-packages/keras/backend/tensorflow_backend.py:541: The name tf.placeholder is deprecated. Please use tf.compat.v1.placeholder instead.\n",
            "\n",
            "WARNING:tensorflow:From /usr/local/lib/python3.6/dist-packages/keras/backend/tensorflow_backend.py:4432: The name tf.random_uniform is deprecated. Please use tf.random.uniform instead.\n",
            "\n",
            "WARNING:tensorflow:From /usr/local/lib/python3.6/dist-packages/keras/backend/tensorflow_backend.py:190: The name tf.get_default_session is deprecated. Please use tf.compat.v1.get_default_session instead.\n",
            "\n",
            "WARNING:tensorflow:From /usr/local/lib/python3.6/dist-packages/keras/backend/tensorflow_backend.py:197: The name tf.ConfigProto is deprecated. Please use tf.compat.v1.ConfigProto instead.\n",
            "\n",
            "WARNING:tensorflow:From /usr/local/lib/python3.6/dist-packages/keras/backend/tensorflow_backend.py:203: The name tf.Session is deprecated. Please use tf.compat.v1.Session instead.\n",
            "\n",
            "WARNING:tensorflow:From /usr/local/lib/python3.6/dist-packages/keras/backend/tensorflow_backend.py:207: The name tf.global_variables is deprecated. Please use tf.compat.v1.global_variables instead.\n",
            "\n",
            "WARNING:tensorflow:From /usr/local/lib/python3.6/dist-packages/keras/backend/tensorflow_backend.py:216: The name tf.is_variable_initialized is deprecated. Please use tf.compat.v1.is_variable_initialized instead.\n",
            "\n",
            "WARNING:tensorflow:From /usr/local/lib/python3.6/dist-packages/keras/backend/tensorflow_backend.py:223: The name tf.variables_initializer is deprecated. Please use tf.compat.v1.variables_initializer instead.\n",
            "\n",
            "WARNING:tensorflow:From /usr/local/lib/python3.6/dist-packages/keras/backend/tensorflow_backend.py:2041: The name tf.nn.fused_batch_norm is deprecated. Please use tf.compat.v1.nn.fused_batch_norm instead.\n",
            "\n",
            "WARNING:tensorflow:From /usr/local/lib/python3.6/dist-packages/keras/backend/tensorflow_backend.py:148: The name tf.placeholder_with_default is deprecated. Please use tf.compat.v1.placeholder_with_default instead.\n",
            "\n",
            "WARNING:tensorflow:From /usr/local/lib/python3.6/dist-packages/keras/backend/tensorflow_backend.py:3733: calling dropout (from tensorflow.python.ops.nn_ops) with keep_prob is deprecated and will be removed in a future version.\n",
            "Instructions for updating:\n",
            "Please use `rate` instead of `keep_prob`. Rate should be set to `rate = 1 - keep_prob`.\n",
            "WARNING:tensorflow:From /usr/local/lib/python3.6/dist-packages/keras/backend/tensorflow_backend.py:4267: The name tf.nn.max_pool is deprecated. Please use tf.nn.max_pool2d instead.\n",
            "\n"
          ],
          "name": "stdout"
        },
        {
          "output_type": "stream",
          "text": [
            "/usr/local/lib/python3.6/dist-packages/ipykernel_launcher.py:12: UserWarning: Update your `Conv2D` call to the Keras 2 API: `Conv2D(32, (1, 1), activation=\"relu\", padding=\"same\")`\n",
            "  if sys.path[0] == '':\n",
            "/usr/local/lib/python3.6/dist-packages/ipykernel_launcher.py:25: UserWarning: Update your `Conv2D` call to the Keras 2 API: `Conv2D(64, (1, 1), activation=\"relu\", padding=\"same\")`\n"
          ],
          "name": "stderr"
        }
      ]
    },
    {
      "cell_type": "code",
      "metadata": {
        "id": "wvVs5tC8mR6Q",
        "colab_type": "code",
        "outputId": "b0f98df2-bbbd-42fb-da68-f5ebd16f0c25",
        "colab": {
          "base_uri": "https://localhost:8080/",
          "height": 1000
        }
      },
      "source": [
        "model.summary()"
      ],
      "execution_count": 17,
      "outputs": [
        {
          "output_type": "stream",
          "text": [
            "Model: \"sequential_1\"\n",
            "_________________________________________________________________\n",
            "Layer (type)                 Output Shape              Param #   \n",
            "=================================================================\n",
            "separable_conv2d_1 (Separabl (None, 32, 32, 32)        155       \n",
            "_________________________________________________________________\n",
            "batch_normalization_1 (Batch (None, 32, 32, 32)        128       \n",
            "_________________________________________________________________\n",
            "dropout_1 (Dropout)          (None, 32, 32, 32)        0         \n",
            "_________________________________________________________________\n",
            "separable_conv2d_2 (Separabl (None, 32, 32, 64)        2400      \n",
            "_________________________________________________________________\n",
            "batch_normalization_2 (Batch (None, 32, 32, 64)        256       \n",
            "_________________________________________________________________\n",
            "dropout_2 (Dropout)          (None, 32, 32, 64)        0         \n",
            "_________________________________________________________________\n",
            "max_pooling2d_1 (MaxPooling2 (None, 16, 16, 64)        0         \n",
            "_________________________________________________________________\n",
            "conv2d_1 (Conv2D)            (None, 16, 16, 32)        2080      \n",
            "_________________________________________________________________\n",
            "batch_normalization_3 (Batch (None, 16, 16, 32)        128       \n",
            "_________________________________________________________________\n",
            "dropout_3 (Dropout)          (None, 16, 16, 32)        0         \n",
            "_________________________________________________________________\n",
            "separable_conv2d_3 (Separabl (None, 16, 16, 64)        2400      \n",
            "_________________________________________________________________\n",
            "batch_normalization_4 (Batch (None, 16, 16, 64)        256       \n",
            "_________________________________________________________________\n",
            "dropout_4 (Dropout)          (None, 16, 16, 64)        0         \n",
            "_________________________________________________________________\n",
            "separable_conv2d_4 (Separabl (None, 16, 16, 128)       8896      \n",
            "_________________________________________________________________\n",
            "batch_normalization_5 (Batch (None, 16, 16, 128)       512       \n",
            "_________________________________________________________________\n",
            "dropout_5 (Dropout)          (None, 16, 16, 128)       0         \n",
            "_________________________________________________________________\n",
            "max_pooling2d_2 (MaxPooling2 (None, 8, 8, 128)         0         \n",
            "_________________________________________________________________\n",
            "conv2d_2 (Conv2D)            (None, 8, 8, 64)          8256      \n",
            "_________________________________________________________________\n",
            "batch_normalization_6 (Batch (None, 8, 8, 64)          256       \n",
            "_________________________________________________________________\n",
            "dropout_6 (Dropout)          (None, 8, 8, 64)          0         \n",
            "_________________________________________________________________\n",
            "separable_conv2d_5 (Separabl (None, 8, 8, 128)         8896      \n",
            "_________________________________________________________________\n",
            "batch_normalization_7 (Batch (None, 8, 8, 128)         512       \n",
            "_________________________________________________________________\n",
            "dropout_7 (Dropout)          (None, 8, 8, 128)         0         \n",
            "_________________________________________________________________\n",
            "separable_conv2d_6 (Separabl (None, 8, 8, 256)         34176     \n",
            "_________________________________________________________________\n",
            "batch_normalization_8 (Batch (None, 8, 8, 256)         1024      \n",
            "_________________________________________________________________\n",
            "dropout_8 (Dropout)          (None, 8, 8, 256)         0         \n",
            "_________________________________________________________________\n",
            "conv2d_3 (Conv2D)            (None, 8, 8, 10)          2570      \n",
            "_________________________________________________________________\n",
            "batch_normalization_9 (Batch (None, 8, 8, 10)          40        \n",
            "_________________________________________________________________\n",
            "global_average_pooling2d_1 ( (None, 10)                0         \n",
            "_________________________________________________________________\n",
            "activation_1 (Activation)    (None, 10)                0         \n",
            "=================================================================\n",
            "Total params: 72,941\n",
            "Trainable params: 71,385\n",
            "Non-trainable params: 1,556\n",
            "_________________________________________________________________\n"
          ],
          "name": "stdout"
        }
      ]
    },
    {
      "cell_type": "code",
      "metadata": {
        "id": "rwXJ7PUyhmtE",
        "colab_type": "code",
        "colab": {}
      },
      "source": [
        "from keras.callbacks import ReduceLROnPlateau\n",
        "\n",
        "reduce_lr = ReduceLROnPlateau(monitor='val_loss', factor=0.5,\n",
        "                              patience=4, min_lr=0.0001, verbose=1)"
      ],
      "execution_count": 0,
      "outputs": []
    },
    {
      "cell_type": "code",
      "metadata": {
        "id": "sKDfvGxhT_fr",
        "colab_type": "code",
        "colab": {}
      },
      "source": [
        "from keras.callbacks import Callback\n",
        "\n",
        "class MyCallback(Callback):\n",
        "  def on_epoch_end(self, epoch, logs=None):\n",
        "    print('lr = {}'.format(K.eval(self.model.optimizer.lr)))\n",
        "\n",
        "my_cb = MyCallback()\n",
        "chk_point_cb = ModelCheckpoint('model/weights.hdf5', save_best_only=True, monitor='val_acc', mode='max', verbose=1)"
      ],
      "execution_count": 0,
      "outputs": []
    },
    {
      "cell_type": "code",
      "metadata": {
        "id": "WLlV5qUYXo6q",
        "colab_type": "code",
        "outputId": "ef03e1f4-e381-423e-df97-4b1212342d65",
        "colab": {
          "base_uri": "https://localhost:8080/",
          "height": 105
        }
      },
      "source": [
        "# Compile the model\n",
        "from keras.optimizers import Adam\n",
        "model.compile(optimizer=Adam(lr=0.01), loss='categorical_crossentropy', metrics=['accuracy'])"
      ],
      "execution_count": 20,
      "outputs": [
        {
          "output_type": "stream",
          "text": [
            "WARNING:tensorflow:From /usr/local/lib/python3.6/dist-packages/keras/optimizers.py:793: The name tf.train.Optimizer is deprecated. Please use tf.compat.v1.train.Optimizer instead.\n",
            "\n",
            "WARNING:tensorflow:From /usr/local/lib/python3.6/dist-packages/keras/backend/tensorflow_backend.py:3576: The name tf.log is deprecated. Please use tf.math.log instead.\n",
            "\n"
          ],
          "name": "stdout"
        }
      ]
    },
    {
      "cell_type": "code",
      "metadata": {
        "id": "5oK_V7WyfsXX",
        "colab_type": "code",
        "outputId": "919033aa-c90d-4543-c826-60e15d750720",
        "colab": {
          "base_uri": "https://localhost:8080/",
          "height": 1000
        }
      },
      "source": [
        "from keras.preprocessing.image import ImageDataGenerator\n",
        "\n",
        "datagen = ImageDataGenerator(zoom_range=0.0, \n",
        "                             horizontal_flip=True)\n",
        "\n",
        "\n",
        "# train the model\n",
        "start = time.time()\n",
        "# Train the model\n",
        "model_info = model.fit_generator(datagen.flow(train_features, train_labels, batch_size = 128),\n",
        "                                 samples_per_epoch = train_features.shape[0], nb_epoch = 50, \n",
        "                                 validation_data = (test_features, test_labels), verbose=1, callbacks=[reduce_lr])\n",
        "end = time.time()\n",
        "print (\"Model took %0.2f seconds to train\"%(end - start))\n",
        "# plot model history\n",
        "plot_model_history(model_info)\n",
        "# compute test accuracy\n",
        "print (\"Accuracy on test data is: %0.2f\"%accuracy(test_features, test_labels, model))"
      ],
      "execution_count": 21,
      "outputs": [
        {
          "output_type": "stream",
          "text": [
            "WARNING:tensorflow:From /usr/local/lib/python3.6/dist-packages/tensorflow_core/python/ops/math_grad.py:1424: where (from tensorflow.python.ops.array_ops) is deprecated and will be removed in a future version.\n",
            "Instructions for updating:\n",
            "Use tf.where in 2.0, which has the same broadcast rule as np.where\n"
          ],
          "name": "stdout"
        },
        {
          "output_type": "stream",
          "text": [
            "/usr/local/lib/python3.6/dist-packages/ipykernel_launcher.py:12: UserWarning: The semantics of the Keras 2 argument `steps_per_epoch` is not the same as the Keras 1 argument `samples_per_epoch`. `steps_per_epoch` is the number of batches to draw from the generator at each epoch. Basically steps_per_epoch = samples_per_epoch/batch_size. Similarly `nb_val_samples`->`validation_steps` and `val_samples`->`steps` arguments have changed. Update your method calls accordingly.\n",
            "  if sys.path[0] == '':\n",
            "/usr/local/lib/python3.6/dist-packages/ipykernel_launcher.py:12: UserWarning: Update your `fit_generator` call to the Keras 2 API: `fit_generator(<keras_pre..., validation_data=(array([[[..., verbose=1, callbacks=[<keras.ca..., steps_per_epoch=390, epochs=50)`\n",
            "  if sys.path[0] == '':\n"
          ],
          "name": "stderr"
        },
        {
          "output_type": "stream",
          "text": [
            "WARNING:tensorflow:From /usr/local/lib/python3.6/dist-packages/keras/backend/tensorflow_backend.py:1033: The name tf.assign_add is deprecated. Please use tf.compat.v1.assign_add instead.\n",
            "\n",
            "WARNING:tensorflow:From /usr/local/lib/python3.6/dist-packages/keras/backend/tensorflow_backend.py:1020: The name tf.assign is deprecated. Please use tf.compat.v1.assign instead.\n",
            "\n",
            "Epoch 1/50\n",
            "390/390 [==============================] - 31s 78ms/step - loss: 1.4039 - acc: 0.5005 - val_loss: 2.4147 - val_acc: 0.4126\n",
            "Epoch 2/50\n",
            "390/390 [==============================] - 24s 62ms/step - loss: 1.0375 - acc: 0.6361 - val_loss: 1.2441 - val_acc: 0.6241\n",
            "Epoch 3/50\n",
            "390/390 [==============================] - 24s 62ms/step - loss: 0.8892 - acc: 0.6897 - val_loss: 1.4903 - val_acc: 0.5334\n",
            "Epoch 4/50\n",
            "390/390 [==============================] - 24s 62ms/step - loss: 0.8012 - acc: 0.7226 - val_loss: 1.1349 - val_acc: 0.6420\n",
            "Epoch 5/50\n",
            "390/390 [==============================] - 24s 62ms/step - loss: 0.7333 - acc: 0.7460 - val_loss: 0.9463 - val_acc: 0.6695\n",
            "Epoch 6/50\n",
            "390/390 [==============================] - 24s 62ms/step - loss: 0.6904 - acc: 0.7612 - val_loss: 1.0006 - val_acc: 0.6728\n",
            "Epoch 7/50\n",
            "390/390 [==============================] - 24s 62ms/step - loss: 0.6593 - acc: 0.7710 - val_loss: 0.7308 - val_acc: 0.7498\n",
            "Epoch 8/50\n",
            "390/390 [==============================] - 24s 62ms/step - loss: 0.6266 - acc: 0.7828 - val_loss: 0.8531 - val_acc: 0.7080\n",
            "Epoch 9/50\n",
            "390/390 [==============================] - 24s 62ms/step - loss: 0.6075 - acc: 0.7883 - val_loss: 0.7465 - val_acc: 0.7580\n",
            "Epoch 10/50\n",
            "390/390 [==============================] - 24s 62ms/step - loss: 0.5829 - acc: 0.7961 - val_loss: 0.6327 - val_acc: 0.7853\n",
            "Epoch 11/50\n",
            "390/390 [==============================] - 24s 62ms/step - loss: 0.5721 - acc: 0.8021 - val_loss: 0.9113 - val_acc: 0.7034\n",
            "Epoch 12/50\n",
            "390/390 [==============================] - 24s 62ms/step - loss: 0.5560 - acc: 0.8068 - val_loss: 0.6936 - val_acc: 0.7548\n",
            "Epoch 13/50\n",
            "390/390 [==============================] - 24s 62ms/step - loss: 0.5439 - acc: 0.8116 - val_loss: 0.6609 - val_acc: 0.7787\n",
            "Epoch 14/50\n",
            "390/390 [==============================] - 24s 62ms/step - loss: 0.5308 - acc: 0.8155 - val_loss: 1.1416 - val_acc: 0.6559\n",
            "\n",
            "Epoch 00014: ReduceLROnPlateau reducing learning rate to 0.004999999888241291.\n",
            "Epoch 15/50\n",
            "390/390 [==============================] - 24s 62ms/step - loss: 0.4686 - acc: 0.8375 - val_loss: 0.5069 - val_acc: 0.8261\n",
            "Epoch 16/50\n",
            "390/390 [==============================] - 24s 62ms/step - loss: 0.4620 - acc: 0.8396 - val_loss: 0.5203 - val_acc: 0.8206\n",
            "Epoch 17/50\n",
            "390/390 [==============================] - 24s 62ms/step - loss: 0.4464 - acc: 0.8447 - val_loss: 0.5174 - val_acc: 0.8199\n",
            "Epoch 18/50\n",
            "390/390 [==============================] - 24s 62ms/step - loss: 0.4479 - acc: 0.8434 - val_loss: 0.5039 - val_acc: 0.8261\n",
            "Epoch 19/50\n",
            "390/390 [==============================] - 24s 62ms/step - loss: 0.4355 - acc: 0.8489 - val_loss: 0.6517 - val_acc: 0.7815\n",
            "Epoch 20/50\n",
            "390/390 [==============================] - 24s 62ms/step - loss: 0.4281 - acc: 0.8509 - val_loss: 0.6746 - val_acc: 0.7798\n",
            "Epoch 21/50\n",
            "390/390 [==============================] - 24s 62ms/step - loss: 0.4280 - acc: 0.8505 - val_loss: 0.7183 - val_acc: 0.7717\n",
            "Epoch 22/50\n",
            "390/390 [==============================] - 24s 62ms/step - loss: 0.4218 - acc: 0.8521 - val_loss: 0.5084 - val_acc: 0.8263\n",
            "\n",
            "Epoch 00022: ReduceLROnPlateau reducing learning rate to 0.0024999999441206455.\n",
            "Epoch 23/50\n",
            "390/390 [==============================] - 24s 62ms/step - loss: 0.3914 - acc: 0.8615 - val_loss: 0.4771 - val_acc: 0.8371\n",
            "Epoch 24/50\n",
            "390/390 [==============================] - 24s 62ms/step - loss: 0.3801 - acc: 0.8682 - val_loss: 0.4877 - val_acc: 0.8391\n",
            "Epoch 25/50\n",
            "390/390 [==============================] - 24s 62ms/step - loss: 0.3795 - acc: 0.8660 - val_loss: 0.5685 - val_acc: 0.8096\n",
            "Epoch 26/50\n",
            "390/390 [==============================] - 24s 62ms/step - loss: 0.3722 - acc: 0.8696 - val_loss: 0.5098 - val_acc: 0.8306\n",
            "Epoch 27/50\n",
            "390/390 [==============================] - 24s 62ms/step - loss: 0.3718 - acc: 0.8693 - val_loss: 0.4744 - val_acc: 0.8368\n",
            "Epoch 28/50\n",
            "390/390 [==============================] - 24s 62ms/step - loss: 0.3705 - acc: 0.8690 - val_loss: 0.4487 - val_acc: 0.8502\n",
            "Epoch 29/50\n",
            "390/390 [==============================] - 24s 62ms/step - loss: 0.3680 - acc: 0.8710 - val_loss: 0.4480 - val_acc: 0.8467\n",
            "Epoch 30/50\n",
            "390/390 [==============================] - 24s 62ms/step - loss: 0.3617 - acc: 0.8733 - val_loss: 0.4422 - val_acc: 0.8485\n",
            "Epoch 31/50\n",
            "390/390 [==============================] - 24s 62ms/step - loss: 0.3583 - acc: 0.8748 - val_loss: 0.5465 - val_acc: 0.8160\n",
            "Epoch 32/50\n",
            "390/390 [==============================] - 24s 62ms/step - loss: 0.3525 - acc: 0.8778 - val_loss: 0.5057 - val_acc: 0.8324\n",
            "Epoch 33/50\n",
            "390/390 [==============================] - 24s 62ms/step - loss: 0.3549 - acc: 0.8758 - val_loss: 0.4835 - val_acc: 0.8395\n",
            "Epoch 34/50\n",
            "390/390 [==============================] - 24s 62ms/step - loss: 0.3512 - acc: 0.8767 - val_loss: 0.4370 - val_acc: 0.8530\n",
            "Epoch 35/50\n",
            "390/390 [==============================] - 24s 62ms/step - loss: 0.3527 - acc: 0.8768 - val_loss: 0.4917 - val_acc: 0.8329\n",
            "Epoch 36/50\n",
            "390/390 [==============================] - 24s 62ms/step - loss: 0.3480 - acc: 0.8783 - val_loss: 0.5880 - val_acc: 0.8091\n",
            "Epoch 37/50\n",
            "390/390 [==============================] - 24s 62ms/step - loss: 0.3476 - acc: 0.8775 - val_loss: 0.5556 - val_acc: 0.8125\n",
            "Epoch 38/50\n",
            "390/390 [==============================] - 24s 62ms/step - loss: 0.3422 - acc: 0.8797 - val_loss: 0.4803 - val_acc: 0.8403\n",
            "\n",
            "Epoch 00038: ReduceLROnPlateau reducing learning rate to 0.0012499999720603228.\n",
            "Epoch 39/50\n",
            "390/390 [==============================] - 24s 62ms/step - loss: 0.3320 - acc: 0.8844 - val_loss: 0.4769 - val_acc: 0.8399\n",
            "Epoch 40/50\n",
            "390/390 [==============================] - 24s 62ms/step - loss: 0.3271 - acc: 0.8831 - val_loss: 0.4596 - val_acc: 0.8448\n",
            "Epoch 41/50\n",
            "390/390 [==============================] - 24s 62ms/step - loss: 0.3216 - acc: 0.8874 - val_loss: 0.4370 - val_acc: 0.8531\n",
            "Epoch 42/50\n",
            "390/390 [==============================] - 24s 62ms/step - loss: 0.3219 - acc: 0.8872 - val_loss: 0.4446 - val_acc: 0.8512\n",
            "\n",
            "Epoch 00042: ReduceLROnPlateau reducing learning rate to 0.0006249999860301614.\n",
            "Epoch 43/50\n",
            "390/390 [==============================] - 24s 62ms/step - loss: 0.3119 - acc: 0.8909 - val_loss: 0.4400 - val_acc: 0.8534\n",
            "Epoch 44/50\n",
            "390/390 [==============================] - 24s 62ms/step - loss: 0.3108 - acc: 0.8912 - val_loss: 0.4286 - val_acc: 0.8580\n",
            "Epoch 45/50\n",
            "390/390 [==============================] - 24s 62ms/step - loss: 0.3124 - acc: 0.8909 - val_loss: 0.4320 - val_acc: 0.8563\n",
            "Epoch 46/50\n",
            "390/390 [==============================] - 24s 62ms/step - loss: 0.3036 - acc: 0.8935 - val_loss: 0.4519 - val_acc: 0.8506\n",
            "Epoch 47/50\n",
            "390/390 [==============================] - 24s 62ms/step - loss: 0.3091 - acc: 0.8909 - val_loss: 0.4318 - val_acc: 0.8566\n",
            "Epoch 48/50\n",
            "390/390 [==============================] - 24s 62ms/step - loss: 0.3075 - acc: 0.8914 - val_loss: 0.4252 - val_acc: 0.8582\n",
            "Epoch 49/50\n",
            "390/390 [==============================] - 24s 62ms/step - loss: 0.3042 - acc: 0.8936 - val_loss: 0.4430 - val_acc: 0.8546\n",
            "Epoch 50/50\n",
            "390/390 [==============================] - 24s 62ms/step - loss: 0.3072 - acc: 0.8927 - val_loss: 0.4462 - val_acc: 0.8531\n",
            "Model took 1216.09 seconds to train\n"
          ],
          "name": "stdout"
        },
        {
          "output_type": "display_data",
          "data": {
            "image/png": "[encoded data removed]",
            "text/plain": [
              "<Figure size 1080x360 with 2 Axes>"
            ]
          },
          "metadata": {
            "tags": []
          }
        },
        {
          "output_type": "stream",
          "text": [
            "Accuracy on test data is: 85.31\n"
          ],
          "name": "stdout"
        }
      ]
    },
    {
      "cell_type": "code",
      "metadata": {
        "id": "cSOb2lkJfhVq",
        "colab_type": "code",
        "colab": {}
      },
      "source": [
        "# Define the model\n",
        "# model = Sequential()\n",
        "# model.add(Convolution2D(48, 3, 3, border_mode='same', input_shape=(32, 32, 3)))\n",
        "# model.add(Activation('relu'))\n",
        "# model.add(Convolution2D(48, 3, 3))\n",
        "# model.add(Activation('relu'))\n",
        "# model.add(MaxPooling2D(pool_size=(2, 2)))\n",
        "# model.add(Dropout(0.25))\n",
        "# model.add(Convolution2D(96, 3, 3, border_mode='same'))\n",
        "# model.add(Activation('relu'))\n",
        "# model.add(Convolution2D(96, 3, 3))\n",
        "# model.add(Activation('relu'))\n",
        "# model.add(MaxPooling2D(pool_size=(2, 2)))\n",
        "# model.add(Dropout(0.25))\n",
        "# model.add(Convolution2D(192, 3, 3, border_mode='same'))\n",
        "# model.add(Activation('relu'))\n",
        "# model.add(Convolution2D(192, 3, 3))\n",
        "# model.add(Activation('relu'))\n",
        "# model.add(MaxPooling2D(pool_size=(2, 2)))\n",
        "# model.add(Dropout(0.25))\n",
        "# model.add(Flatten())\n",
        "# model.add(Dense(512))\n",
        "# model.add(Activation('relu'))\n",
        "# model.add(Dropout(0.5))\n",
        "# model.add(Dense(256))\n",
        "# model.add(Activation('relu'))\n",
        "# model.add(Dropout(0.5))\n",
        "# model.add(Dense(num_classes, activation='softmax'))\n"
      ],
      "execution_count": 0,
      "outputs": []
    },
    {
      "cell_type": "code",
      "metadata": {
        "id": "aHT4Yw6AZ5Aa",
        "colab_type": "code",
        "colab": {}
      },
      "source": [
        ""
      ],
      "execution_count": 0,
      "outputs": []
    }
  ]
}
{
  "nbformat": 4,
  "nbformat_minor": 0,
  "metadata": {
    "colab": {
      "name": "Assignment 6 - 2.ipynb",
      "provenance": [],
      "collapsed_sections": [],
      "include_colab_link": true
    },
    "kernelspec": {
      "name": "python3",
      "display_name": "Python 3"
    },
    "accelerator": "GPU"
  },
  "cells": [
    {
      "cell_type": "markdown",
      "metadata": {
        "id": "view-in-github",
        "colab_type": "text"
      },
      "source": [
        "<a href=\"https://colab.research.google.com/github/MittalNeha/EIP4/blob/master/Week3/Assignment_6_2.ipynb\" target=\"_parent\"><img src=\"https://colab.research.google.com/assets/colab-badge.svg\" alt=\"Open In Colab\"/></a>"
      ]
    },
    {
      "cell_type": "markdown",
      "metadata": {
        "id": "rWzLdziMA5Xh",
        "colab_type": "text"
      },
      "source": [
        "\n",
        "\n",
        "```\n",
        "Target for model\n",
        "\n",
        "390/390 [==============================] - 21s 53ms/step - loss: 0.3320 - acc: 0.8873 - val_loss: 0.5964 - val_acc: 0.8226\n",
        "```\n",
        "\n"
      ]
    },
    {
      "cell_type": "code",
      "metadata": {
        "id": "KkwXnw9OfHZl",
        "colab_type": "code",
        "outputId": "0a58167a-b4f9-44a6-815c-bb89bbac9c65",
        "colab": {
          "base_uri": "https://localhost:8080/",
          "height": 81
        }
      },
      "source": [
        "from keras import backend as K\n",
        "import time\n",
        "import matplotlib.pyplot as plt\n",
        "import numpy as np\n",
        "% matplotlib inline\n",
        "np.random.seed(2017) \n",
        "from keras.models import Sequential\n",
        "from keras.layers.convolutional import Convolution2D, MaxPooling2D\n",
        "from keras.layers import Activation, Flatten, Dense, Dropout\n",
        "from keras.layers.normalization import BatchNormalization\n",
        "from keras.utils import np_utils\n",
        "from keras.layers import SeparableConv2D\n",
        "from keras.layers import GlobalMaxPooling2D\n",
        "from keras.layers import GlobalAveragePooling2D"
      ],
      "execution_count": 1,
      "outputs": [
        {
          "output_type": "stream",
          "text": [
            "Using TensorFlow backend.\n"
          ],
          "name": "stderr"
        },
        {
          "output_type": "display_data",
          "data": {
            "text/html": [
              "<p style=\"color: red;\">\n",
              "The default version of TensorFlow in Colab will soon switch to TensorFlow 2.x.<br>\n",
              "We recommend you <a href=\"https://www.tensorflow.org/guide/migrate\" target=\"_blank\">upgrade</a> now \n",
              "or ensure your notebook will continue to use TensorFlow 1.x via the <code>%tensorflow_version 1.x</code> magic:\n",
              "<a href=\"https://colab.research.google.com/notebooks/tensorflow_version.ipynb\" target=\"_blank\">more info</a>.</p>\n"
            ],
            "text/plain": [
              "<IPython.core.display.HTML object>"
            ]
          },
          "metadata": {
            "tags": []
          }
        }
      ]
    },
    {
      "cell_type": "code",
      "metadata": {
        "id": "ZcpuSMScGr0D",
        "colab_type": "code",
        "colab": {}
      },
      "source": [
        "from keras.datasets import cifar10"
      ],
      "execution_count": 0,
      "outputs": []
    },
    {
      "cell_type": "code",
      "metadata": {
        "id": "NHpnoCHZfO8g",
        "colab_type": "code",
        "colab": {
          "base_uri": "https://localhost:8080/",
          "height": 52
        },
        "outputId": "15a3408e-480a-45c8-deea-9d09badca22e"
      },
      "source": [
        "from keras.datasets import cifar10\n",
        "(train_features, train_labels), (test_features, test_labels) = cifar10.load_data()\n",
        "num_train, img_channels, img_rows, img_cols =  train_features.shape\n",
        "num_test, _, _, _ =  test_features.shape\n",
        "num_classes = len(np.unique(train_labels))"
      ],
      "execution_count": 3,
      "outputs": [
        {
          "output_type": "stream",
          "text": [
            "Downloading data from https://www.cs.toronto.edu/~kriz/cifar-10-python.tar.gz\n",
            "170500096/170498071 [==============================] - 11s 0us/step\n"
          ],
          "name": "stdout"
        }
      ]
    },
    {
      "cell_type": "code",
      "metadata": {
        "id": "KZmuKa6lpCHs",
        "colab_type": "code",
        "outputId": "118dec43-8ac5-4d51-ecfd-5f97801e855f",
        "colab": {
          "base_uri": "https://localhost:8080/",
          "height": 34
        }
      },
      "source": [
        "train_labels.shape"
      ],
      "execution_count": 4,
      "outputs": [
        {
          "output_type": "execute_result",
          "data": {
            "text/plain": [
              "(50000, 1)"
            ]
          },
          "metadata": {
            "tags": []
          },
          "execution_count": 4
        }
      ]
    },
    {
      "cell_type": "code",
      "metadata": {
        "id": "KolAy1yBpFxM",
        "colab_type": "code",
        "outputId": "7cc465b3-d866-43a1-f8a5-10ac4897d7b4",
        "colab": {
          "base_uri": "https://localhost:8080/",
          "height": 34
        }
      },
      "source": [
        "test_labels.shape"
      ],
      "execution_count": 5,
      "outputs": [
        {
          "output_type": "execute_result",
          "data": {
            "text/plain": [
              "(10000, 1)"
            ]
          },
          "metadata": {
            "tags": []
          },
          "execution_count": 5
        }
      ]
    },
    {
      "cell_type": "code",
      "metadata": {
        "id": "14HyBUXdfS6G",
        "colab_type": "code",
        "outputId": "c1e05c86-600d-4a0e-8ac5-c3ae30b49b15",
        "colab": {
          "base_uri": "https://localhost:8080/",
          "height": 213
        }
      },
      "source": [
        "class_names = ['airplane','automobile','bird','cat','deer',\n",
        "               'dog','frog','horse','ship','truck']\n",
        "fig = plt.figure(figsize=(8,3))\n",
        "for i in range(num_classes):\n",
        "    ax = fig.add_subplot(2, 5, 1 + i, xticks=[], yticks=[])\n",
        "    idx = np.where(train_labels[:]==i)[0]\n",
        "    features_idx = train_features[idx,::]\n",
        "    img_num = np.random.randint(features_idx.shape[0])\n",
        "    im = features_idx[img_num]\n",
        "    ax.set_title(class_names[i])\n",
        "    plt.imshow(im)\n",
        "plt.show()"
      ],
      "execution_count": 6,
      "outputs": [
        {
          "output_type": "display_data",
          "data": {
            "image/png": "[encoded data removed]",
            "text/plain": [
              "<Figure size 576x216 with 10 Axes>"
            ]
          },
          "metadata": {
            "tags": []
          }
        }
      ]
    },
    {
      "cell_type": "code",
      "metadata": {
        "id": "bmfsk76-fadV",
        "colab_type": "code",
        "colab": {}
      },
      "source": [
        "def plot_model_history(model_history):\n",
        "    fig, axs = plt.subplots(1,2,figsize=(15,5))\n",
        "    # summarize history for accuracy\n",
        "    axs[0].plot(range(1,len(model_history.history['acc'])+1),model_history.history['acc'])\n",
        "    axs[0].plot(range(1,len(model_history.history['val_acc'])+1),model_history.history['val_acc'])\n",
        "    axs[0].set_title('Model Accuracy')\n",
        "    axs[0].set_ylabel('Accuracy')\n",
        "    axs[0].set_xlabel('Epoch')\n",
        "    axs[0].set_xticks(np.arange(1,len(model_history.history['acc'])+1),len(model_history.history['acc'])/10)\n",
        "    axs[0].legend(['train', 'val'], loc='best')\n",
        "    # summarize history for loss\n",
        "    axs[1].plot(range(1,len(model_history.history['loss'])+1),model_history.history['loss'])\n",
        "    axs[1].plot(range(1,len(model_history.history['val_loss'])+1),model_history.history['val_loss'])\n",
        "    axs[1].set_title('Model Loss')\n",
        "    axs[1].set_ylabel('Loss')\n",
        "    axs[1].set_xlabel('Epoch')\n",
        "    axs[1].set_xticks(np.arange(1,len(model_history.history['loss'])+1),len(model_history.history['loss'])/10)\n",
        "    axs[1].legend(['train', 'val'], loc='best')\n",
        "    plt.show()"
      ],
      "execution_count": 0,
      "outputs": []
    },
    {
      "cell_type": "code",
      "metadata": {
        "id": "YJMT4rjgfdZz",
        "colab_type": "code",
        "colab": {}
      },
      "source": [
        "def accuracy(test_x, test_y, model):\n",
        "    result = model.predict(test_x)\n",
        "    predicted_class = np.argmax(result, axis=1)\n",
        "    true_class = np.argmax(test_y, axis=1)\n",
        "    num_correct = np.sum(predicted_class == true_class) \n",
        "    accuracy = float(num_correct)/result.shape[0]\n",
        "    return (accuracy * 100)"
      ],
      "execution_count": 0,
      "outputs": []
    },
    {
      "cell_type": "code",
      "metadata": {
        "id": "hBpAhmdlpVqy",
        "colab_type": "code",
        "outputId": "1c0e6053-e4a9-4f6c-f692-b68ab2585e5a",
        "colab": {
          "base_uri": "https://localhost:8080/",
          "height": 34
        }
      },
      "source": [
        "train_labels[0]"
      ],
      "execution_count": 9,
      "outputs": [
        {
          "output_type": "execute_result",
          "data": {
            "text/plain": [
              "array([6], dtype=uint8)"
            ]
          },
          "metadata": {
            "tags": []
          },
          "execution_count": 9
        }
      ]
    },
    {
      "cell_type": "code",
      "metadata": {
        "id": "T5c5nDvxm6zR",
        "colab_type": "code",
        "colab": {}
      },
      "source": [
        "train_features = train_features.astype('float32')/255\n",
        "test_features = test_features.astype('float32')/255\n",
        "# convert class labels to binary class labels\n",
        "train_labels = np_utils.to_categorical(train_labels, num_classes)\n",
        "test_labels = np_utils.to_categorical(test_labels, num_classes)"
      ],
      "execution_count": 0,
      "outputs": []
    },
    {
      "cell_type": "code",
      "metadata": {
        "id": "7W5Q--EjYPPf",
        "colab_type": "code",
        "colab": {}
      },
      "source": [
        "!mkdir model"
      ],
      "execution_count": 0,
      "outputs": []
    },
    {
      "cell_type": "code",
      "metadata": {
        "id": "6vP8puQHgyy5",
        "colab_type": "code",
        "outputId": "57538288-e553-45d3-e850-473e49c1acb5",
        "colab": {
          "base_uri": "https://localhost:8080/",
          "height": 570
        }
      },
      "source": [
        "model = Sequential()\n",
        "\n",
        "model.add(SeparableConv2D(32, kernel_size=(3,3), activation='relu', padding='same', input_shape=(32,32,3))) #32,32,32  |  3x3\n",
        "model.add(BatchNormalization())\n",
        "model.add(Dropout(0.1))\n",
        "model.add(SeparableConv2D(64, kernel_size=(3,3), activation='relu', padding='same')) #32,32,64  |  5x5\n",
        "model.add(BatchNormalization())\n",
        "model.add(Dropout(0.1))\n",
        "\n",
        "model.add(MaxPooling2D(2,2))  #16, 16, 64  | 6x6 \n",
        "\n",
        "model.add(Convolution2D(32, 1,1, activation='relu', border_mode='same')) #16, 16, 32  |  6x6\n",
        "model.add(BatchNormalization())\n",
        "model.add(Dropout(0.1))\n",
        "\n",
        "model.add(SeparableConv2D(64, kernel_size=(3,3), activation='relu', padding='same')) #16, 16, 64  | 10x10\n",
        "model.add(BatchNormalization())\n",
        "model.add(Dropout(0.1))\n",
        "model.add(SeparableConv2D(128, kernel_size=(3,3), activation='relu', padding='same')) #16, 16, 128  |  14x14\n",
        "model.add(BatchNormalization())\n",
        "model.add(Dropout(0.1))\n",
        "\n",
        "model.add(MaxPooling2D(2,2))  #8,8,128  | 16x16\n",
        "\n",
        "model.add(Convolution2D(64, 1,1, activation='relu', border_mode='same')) #8,8,64  |  16x16\n",
        "model.add(BatchNormalization())\n",
        "model.add(Dropout(0.1))\n",
        "\n",
        "model.add(SeparableConv2D(128, kernel_size=(3,3), activation='relu', padding='same')) # 8,8,128  |  24x24\n",
        "model.add(BatchNormalization())\n",
        "model.add(Dropout(0.1))\n",
        "model.add(SeparableConv2D(256, kernel_size=(3,3), activation='relu', padding='same')) #8,8,256  |  32x32\n",
        "model.add(BatchNormalization())\n",
        "model.add(Dropout(0.5))\n",
        "\n",
        "model.add(Convolution2D(num_classes, 1, activation='relu', padding='same')) #8,8,10\n",
        "model.add(BatchNormalization())\n",
        "\n",
        "model.add(GlobalAveragePooling2D()) #1,1,10\n",
        "\n",
        "model.add(Activation('softmax'))"
      ],
      "execution_count": 12,
      "outputs": [
        {
          "output_type": "stream",
          "text": [
            "WARNING:tensorflow:From /usr/local/lib/python3.6/dist-packages/keras/backend/tensorflow_backend.py:66: The name tf.get_default_graph is deprecated. Please use tf.compat.v1.get_default_graph instead.\n",
            "\n",
            "WARNING:tensorflow:From /usr/local/lib/python3.6/dist-packages/keras/backend/tensorflow_backend.py:541: The name tf.placeholder is deprecated. Please use tf.compat.v1.placeholder instead.\n",
            "\n",
            "WARNING:tensorflow:From /usr/local/lib/python3.6/dist-packages/keras/backend/tensorflow_backend.py:4432: The name tf.random_uniform is deprecated. Please use tf.random.uniform instead.\n",
            "\n",
            "WARNING:tensorflow:From /usr/local/lib/python3.6/dist-packages/keras/backend/tensorflow_backend.py:190: The name tf.get_default_session is deprecated. Please use tf.compat.v1.get_default_session instead.\n",
            "\n",
            "WARNING:tensorflow:From /usr/local/lib/python3.6/dist-packages/keras/backend/tensorflow_backend.py:197: The name tf.ConfigProto is deprecated. Please use tf.compat.v1.ConfigProto instead.\n",
            "\n",
            "WARNING:tensorflow:From /usr/local/lib/python3.6/dist-packages/keras/backend/tensorflow_backend.py:203: The name tf.Session is deprecated. Please use tf.compat.v1.Session instead.\n",
            "\n",
            "WARNING:tensorflow:From /usr/local/lib/python3.6/dist-packages/keras/backend/tensorflow_backend.py:207: The name tf.global_variables is deprecated. Please use tf.compat.v1.global_variables instead.\n",
            "\n",
            "WARNING:tensorflow:From /usr/local/lib/python3.6/dist-packages/keras/backend/tensorflow_backend.py:216: The name tf.is_variable_initialized is deprecated. Please use tf.compat.v1.is_variable_initialized instead.\n",
            "\n",
            "WARNING:tensorflow:From /usr/local/lib/python3.6/dist-packages/keras/backend/tensorflow_backend.py:223: The name tf.variables_initializer is deprecated. Please use tf.compat.v1.variables_initializer instead.\n",
            "\n",
            "WARNING:tensorflow:From /usr/local/lib/python3.6/dist-packages/keras/backend/tensorflow_backend.py:2041: The name tf.nn.fused_batch_norm is deprecated. Please use tf.compat.v1.nn.fused_batch_norm instead.\n",
            "\n",
            "WARNING:tensorflow:From /usr/local/lib/python3.6/dist-packages/keras/backend/tensorflow_backend.py:148: The name tf.placeholder_with_default is deprecated. Please use tf.compat.v1.placeholder_with_default instead.\n",
            "\n",
            "WARNING:tensorflow:From /usr/local/lib/python3.6/dist-packages/keras/backend/tensorflow_backend.py:3733: calling dropout (from tensorflow.python.ops.nn_ops) with keep_prob is deprecated and will be removed in a future version.\n",
            "Instructions for updating:\n",
            "Please use `rate` instead of `keep_prob`. Rate should be set to `rate = 1 - keep_prob`.\n",
            "WARNING:tensorflow:From /usr/local/lib/python3.6/dist-packages/keras/backend/tensorflow_backend.py:4267: The name tf.nn.max_pool is deprecated. Please use tf.nn.max_pool2d instead.\n",
            "\n"
          ],
          "name": "stdout"
        },
        {
          "output_type": "stream",
          "text": [
            "/usr/local/lib/python3.6/dist-packages/ipykernel_launcher.py:12: UserWarning: Update your `Conv2D` call to the Keras 2 API: `Conv2D(32, (1, 1), activation=\"relu\", padding=\"same\")`\n",
            "  if sys.path[0] == '':\n",
            "/usr/local/lib/python3.6/dist-packages/ipykernel_launcher.py:25: UserWarning: Update your `Conv2D` call to the Keras 2 API: `Conv2D(64, (1, 1), activation=\"relu\", padding=\"same\")`\n"
          ],
          "name": "stderr"
        }
      ]
    },
    {
      "cell_type": "code",
      "metadata": {
        "id": "wvVs5tC8mR6Q",
        "colab_type": "code",
        "outputId": "6ce1231e-454c-42f2-d86d-64fd0f23814f",
        "colab": {
          "base_uri": "https://localhost:8080/",
          "height": 1000
        }
      },
      "source": [
        "model.summary()"
      ],
      "execution_count": 13,
      "outputs": [
        {
          "output_type": "stream",
          "text": [
            "Model: \"sequential_1\"\n",
            "_________________________________________________________________\n",
            "Layer (type)                 Output Shape              Param #   \n",
            "=================================================================\n",
            "separable_conv2d_1 (Separabl (None, 32, 32, 32)        155       \n",
            "_________________________________________________________________\n",
            "batch_normalization_1 (Batch (None, 32, 32, 32)        128       \n",
            "_________________________________________________________________\n",
            "dropout_1 (Dropout)          (None, 32, 32, 32)        0         \n",
            "_________________________________________________________________\n",
            "separable_conv2d_2 (Separabl (None, 32, 32, 64)        2400      \n",
            "_________________________________________________________________\n",
            "batch_normalization_2 (Batch (None, 32, 32, 64)        256       \n",
            "_________________________________________________________________\n",
            "dropout_2 (Dropout)          (None, 32, 32, 64)        0         \n",
            "_________________________________________________________________\n",
            "max_pooling2d_1 (MaxPooling2 (None, 16, 16, 64)        0         \n",
            "_________________________________________________________________\n",
            "conv2d_1 (Conv2D)            (None, 16, 16, 32)        2080      \n",
            "_________________________________________________________________\n",
            "batch_normalization_3 (Batch (None, 16, 16, 32)        128       \n",
            "_________________________________________________________________\n",
            "dropout_3 (Dropout)          (None, 16, 16, 32)        0         \n",
            "_________________________________________________________________\n",
            "separable_conv2d_3 (Separabl (None, 16, 16, 64)        2400      \n",
            "_________________________________________________________________\n",
            "batch_normalization_4 (Batch (None, 16, 16, 64)        256       \n",
            "_________________________________________________________________\n",
            "dropout_4 (Dropout)          (None, 16, 16, 64)        0         \n",
            "_________________________________________________________________\n",
            "separable_conv2d_4 (Separabl (None, 16, 16, 128)       8896      \n",
            "_________________________________________________________________\n",
            "batch_normalization_5 (Batch (None, 16, 16, 128)       512       \n",
            "_________________________________________________________________\n",
            "dropout_5 (Dropout)          (None, 16, 16, 128)       0         \n",
            "_________________________________________________________________\n",
            "max_pooling2d_2 (MaxPooling2 (None, 8, 8, 128)         0         \n",
            "_________________________________________________________________\n",
            "conv2d_2 (Conv2D)            (None, 8, 8, 64)          8256      \n",
            "_________________________________________________________________\n",
            "batch_normalization_6 (Batch (None, 8, 8, 64)          256       \n",
            "_________________________________________________________________\n",
            "dropout_6 (Dropout)          (None, 8, 8, 64)          0         \n",
            "_________________________________________________________________\n",
            "separable_conv2d_5 (Separabl (None, 8, 8, 128)         8896      \n",
            "_________________________________________________________________\n",
            "batch_normalization_7 (Batch (None, 8, 8, 128)         512       \n",
            "_________________________________________________________________\n",
            "dropout_7 (Dropout)          (None, 8, 8, 128)         0         \n",
            "_________________________________________________________________\n",
            "separable_conv2d_6 (Separabl (None, 8, 8, 256)         34176     \n",
            "_________________________________________________________________\n",
            "batch_normalization_8 (Batch (None, 8, 8, 256)         1024      \n",
            "_________________________________________________________________\n",
            "dropout_8 (Dropout)          (None, 8, 8, 256)         0         \n",
            "_________________________________________________________________\n",
            "conv2d_3 (Conv2D)            (None, 8, 8, 10)          2570      \n",
            "_________________________________________________________________\n",
            "batch_normalization_9 (Batch (None, 8, 8, 10)          40        \n",
            "_________________________________________________________________\n",
            "global_average_pooling2d_1 ( (None, 10)                0         \n",
            "_________________________________________________________________\n",
            "activation_1 (Activation)    (None, 10)                0         \n",
            "=================================================================\n",
            "Total params: 72,941\n",
            "Trainable params: 71,385\n",
            "Non-trainable params: 1,556\n",
            "_________________________________________________________________\n"
          ],
          "name": "stdout"
        }
      ]
    },
    {
      "cell_type": "code",
      "metadata": {
        "id": "rwXJ7PUyhmtE",
        "colab_type": "code",
        "colab": {}
      },
      "source": [
        "from keras.callbacks import ReduceLROnPlateau\n",
        "\n",
        "reduce_lr = ReduceLROnPlateau(monitor='val_loss', factor=0.5,\n",
        "                              patience=4, min_lr=0.0001, verbose=1)"
      ],
      "execution_count": 0,
      "outputs": []
    },
    {
      "cell_type": "code",
      "metadata": {
        "id": "sKDfvGxhT_fr",
        "colab_type": "code",
        "colab": {}
      },
      "source": [
        "from keras.callbacks import Callback\n",
        "from keras.callbacks import ModelCheckpoint\n",
        "\n",
        "class MyCallback(Callback):\n",
        "  def on_epoch_end(self, epoch, logs=None):\n",
        "    print('lr = {}'.format(K.eval(self.model.optimizer.lr)))\n",
        "\n",
        "my_cb = MyCallback()\n",
        "chk_point_cb = ModelCheckpoint('model/weights.hdf5', save_best_only=True, monitor='val_acc', mode='max', verbose=1)"
      ],
      "execution_count": 0,
      "outputs": []
    },
    {
      "cell_type": "code",
      "metadata": {
        "id": "WLlV5qUYXo6q",
        "colab_type": "code",
        "outputId": "60429c79-efa9-4250-9a0d-9014e6c63e83",
        "colab": {
          "base_uri": "https://localhost:8080/",
          "height": 107
        }
      },
      "source": [
        "# Compile the model\n",
        "from keras.optimizers import Adam\n",
        "model.compile(optimizer=Adam(lr=0.01), loss='categorical_crossentropy', metrics=['accuracy'])"
      ],
      "execution_count": 16,
      "outputs": [
        {
          "output_type": "stream",
          "text": [
            "WARNING:tensorflow:From /usr/local/lib/python3.6/dist-packages/keras/optimizers.py:793: The name tf.train.Optimizer is deprecated. Please use tf.compat.v1.train.Optimizer instead.\n",
            "\n",
            "WARNING:tensorflow:From /usr/local/lib/python3.6/dist-packages/keras/backend/tensorflow_backend.py:3576: The name tf.log is deprecated. Please use tf.math.log instead.\n",
            "\n"
          ],
          "name": "stdout"
        }
      ]
    },
    {
      "cell_type": "code",
      "metadata": {
        "id": "5oK_V7WyfsXX",
        "colab_type": "code",
        "outputId": "0f6d45b5-52aa-4949-b8fc-c065d258264e",
        "colab": {
          "base_uri": "https://localhost:8080/",
          "height": 1000
        }
      },
      "source": [
        "from keras.preprocessing.image import ImageDataGenerator\n",
        "\n",
        "datagen = ImageDataGenerator(zoom_range=0.0, \n",
        "                             horizontal_flip=True)\n",
        "\n",
        "\n",
        "# train the model\n",
        "start = time.time()\n",
        "# Train the model\n",
        "model_info = model.fit_generator(datagen.flow(train_features, train_labels, batch_size = 128),\n",
        "                                 samples_per_epoch = train_features.shape[0], nb_epoch = 50, \n",
        "                                 validation_data = (test_features, test_labels), verbose=1, callbacks=[reduce_lr, chk_point_cb])\n",
        "end = time.time()\n",
        "print (\"Model took %0.2f seconds to train\"%(end - start))\n",
        "# plot model history\n",
        "plot_model_history(model_info)\n",
        "# compute test accuracy\n",
        "print (\"Accuracy on test data is: %0.2f\"%accuracy(test_features, test_labels, model))"
      ],
      "execution_count": 17,
      "outputs": [
        {
          "output_type": "stream",
          "text": [
            "WARNING:tensorflow:From /usr/local/lib/python3.6/dist-packages/tensorflow_core/python/ops/math_grad.py:1424: where (from tensorflow.python.ops.array_ops) is deprecated and will be removed in a future version.\n",
            "Instructions for updating:\n",
            "Use tf.where in 2.0, which has the same broadcast rule as np.where\n"
          ],
          "name": "stdout"
        },
        {
          "output_type": "stream",
          "text": [
            "/usr/local/lib/python3.6/dist-packages/ipykernel_launcher.py:12: UserWarning: The semantics of the Keras 2 argument `steps_per_epoch` is not the same as the Keras 1 argument `samples_per_epoch`. `steps_per_epoch` is the number of batches to draw from the generator at each epoch. Basically steps_per_epoch = samples_per_epoch/batch_size. Similarly `nb_val_samples`->`validation_steps` and `val_samples`->`steps` arguments have changed. Update your method calls accordingly.\n",
            "  if sys.path[0] == '':\n",
            "/usr/local/lib/python3.6/dist-packages/ipykernel_launcher.py:12: UserWarning: Update your `fit_generator` call to the Keras 2 API: `fit_generator(<keras_pre..., validation_data=(array([[[..., verbose=1, callbacks=[<keras.ca..., steps_per_epoch=390, epochs=50)`\n",
            "  if sys.path[0] == '':\n"
          ],
          "name": "stderr"
        },
        {
          "output_type": "stream",
          "text": [
            "WARNING:tensorflow:From /usr/local/lib/python3.6/dist-packages/keras/backend/tensorflow_backend.py:1033: The name tf.assign_add is deprecated. Please use tf.compat.v1.assign_add instead.\n",
            "\n",
            "WARNING:tensorflow:From /usr/local/lib/python3.6/dist-packages/keras/backend/tensorflow_backend.py:1020: The name tf.assign is deprecated. Please use tf.compat.v1.assign instead.\n",
            "\n",
            "Epoch 1/50\n",
            "390/390 [==============================] - 32s 82ms/step - loss: 1.4049 - acc: 0.5000 - val_loss: 1.7713 - val_acc: 0.4984\n",
            "\n",
            "Epoch 00001: val_acc improved from -inf to 0.49840, saving model to model/weights.hdf5\n",
            "Epoch 2/50\n",
            "390/390 [==============================] - 25s 65ms/step - loss: 1.0502 - acc: 0.6310 - val_loss: 1.3823 - val_acc: 0.5568\n",
            "\n",
            "Epoch 00002: val_acc improved from 0.49840 to 0.55680, saving model to model/weights.hdf5\n",
            "Epoch 3/50\n",
            "390/390 [==============================] - 25s 65ms/step - loss: 0.9281 - acc: 0.6752 - val_loss: 1.1499 - val_acc: 0.6115\n",
            "\n",
            "Epoch 00003: val_acc improved from 0.55680 to 0.61150, saving model to model/weights.hdf5\n",
            "Epoch 4/50\n",
            "390/390 [==============================] - 25s 65ms/step - loss: 0.8381 - acc: 0.7060 - val_loss: 0.9409 - val_acc: 0.6870\n",
            "\n",
            "Epoch 00004: val_acc improved from 0.61150 to 0.68700, saving model to model/weights.hdf5\n",
            "Epoch 5/50\n",
            "390/390 [==============================] - 25s 65ms/step - loss: 0.7797 - acc: 0.7282 - val_loss: 1.1157 - val_acc: 0.6551\n",
            "\n",
            "Epoch 00005: val_acc did not improve from 0.68700\n",
            "Epoch 6/50\n",
            "390/390 [==============================] - 25s 65ms/step - loss: 0.7294 - acc: 0.7492 - val_loss: 0.8373 - val_acc: 0.7091\n",
            "\n",
            "Epoch 00006: val_acc improved from 0.68700 to 0.70910, saving model to model/weights.hdf5\n",
            "Epoch 7/50\n",
            "390/390 [==============================] - 25s 65ms/step - loss: 0.6821 - acc: 0.7608 - val_loss: 0.7337 - val_acc: 0.7537\n",
            "\n",
            "Epoch 00007: val_acc improved from 0.70910 to 0.75370, saving model to model/weights.hdf5\n",
            "Epoch 8/50\n",
            "390/390 [==============================] - 25s 65ms/step - loss: 0.6522 - acc: 0.7740 - val_loss: 0.9745 - val_acc: 0.6814\n",
            "\n",
            "Epoch 00008: val_acc did not improve from 0.75370\n",
            "Epoch 9/50\n",
            "390/390 [==============================] - 25s 65ms/step - loss: 0.6246 - acc: 0.7835 - val_loss: 0.6806 - val_acc: 0.7658\n",
            "\n",
            "Epoch 00009: val_acc improved from 0.75370 to 0.76580, saving model to model/weights.hdf5\n",
            "Epoch 10/50\n",
            "390/390 [==============================] - 25s 65ms/step - loss: 0.6009 - acc: 0.7899 - val_loss: 1.0100 - val_acc: 0.6722\n",
            "\n",
            "Epoch 00010: val_acc did not improve from 0.76580\n",
            "Epoch 11/50\n",
            "390/390 [==============================] - 25s 65ms/step - loss: 0.5836 - acc: 0.7973 - val_loss: 0.6289 - val_acc: 0.7823\n",
            "\n",
            "Epoch 00011: val_acc improved from 0.76580 to 0.78230, saving model to model/weights.hdf5\n",
            "Epoch 12/50\n",
            "390/390 [==============================] - 25s 65ms/step - loss: 0.5719 - acc: 0.8011 - val_loss: 0.6798 - val_acc: 0.7719\n",
            "\n",
            "Epoch 00012: val_acc did not improve from 0.78230\n",
            "Epoch 13/50\n",
            "390/390 [==============================] - 25s 65ms/step - loss: 0.5577 - acc: 0.8081 - val_loss: 1.0354 - val_acc: 0.6867\n",
            "\n",
            "Epoch 00013: val_acc did not improve from 0.78230\n",
            "Epoch 14/50\n",
            "390/390 [==============================] - 25s 65ms/step - loss: 0.5445 - acc: 0.8096 - val_loss: 0.7552 - val_acc: 0.7577\n",
            "\n",
            "Epoch 00014: val_acc did not improve from 0.78230\n",
            "Epoch 15/50\n",
            "390/390 [==============================] - 25s 65ms/step - loss: 0.5272 - acc: 0.8175 - val_loss: 0.5571 - val_acc: 0.8102\n",
            "\n",
            "Epoch 00015: val_acc improved from 0.78230 to 0.81020, saving model to model/weights.hdf5\n",
            "Epoch 16/50\n",
            "390/390 [==============================] - 25s 65ms/step - loss: 0.5191 - acc: 0.8199 - val_loss: 0.6515 - val_acc: 0.7833\n",
            "\n",
            "Epoch 00016: val_acc did not improve from 0.81020\n",
            "Epoch 17/50\n",
            "390/390 [==============================] - 25s 65ms/step - loss: 0.5096 - acc: 0.8214 - val_loss: 0.7230 - val_acc: 0.7565\n",
            "\n",
            "Epoch 00017: val_acc did not improve from 0.81020\n",
            "Epoch 18/50\n",
            "390/390 [==============================] - 25s 65ms/step - loss: 0.4965 - acc: 0.8259 - val_loss: 0.6776 - val_acc: 0.7691\n",
            "\n",
            "Epoch 00018: val_acc did not improve from 0.81020\n",
            "Epoch 19/50\n",
            "390/390 [==============================] - 25s 65ms/step - loss: 0.4899 - acc: 0.8285 - val_loss: 0.5275 - val_acc: 0.8188\n",
            "\n",
            "Epoch 00019: val_acc improved from 0.81020 to 0.81880, saving model to model/weights.hdf5\n",
            "Epoch 20/50\n",
            "390/390 [==============================] - 25s 65ms/step - loss: 0.4803 - acc: 0.8301 - val_loss: 0.7461 - val_acc: 0.7454\n",
            "\n",
            "Epoch 00020: val_acc did not improve from 0.81880\n",
            "Epoch 21/50\n",
            "390/390 [==============================] - 25s 65ms/step - loss: 0.4678 - acc: 0.8375 - val_loss: 0.5612 - val_acc: 0.8098\n",
            "\n",
            "Epoch 00021: val_acc did not improve from 0.81880\n",
            "Epoch 22/50\n",
            "390/390 [==============================] - 25s 65ms/step - loss: 0.4693 - acc: 0.8363 - val_loss: 0.5775 - val_acc: 0.8066\n",
            "\n",
            "Epoch 00022: val_acc did not improve from 0.81880\n",
            "Epoch 23/50\n",
            "390/390 [==============================] - 25s 65ms/step - loss: 0.4545 - acc: 0.8411 - val_loss: 0.5373 - val_acc: 0.8192\n",
            "\n",
            "Epoch 00023: ReduceLROnPlateau reducing learning rate to 0.004999999888241291.\n",
            "\n",
            "Epoch 00023: val_acc improved from 0.81880 to 0.81920, saving model to model/weights.hdf5\n",
            "Epoch 24/50\n",
            "390/390 [==============================] - 25s 65ms/step - loss: 0.4130 - acc: 0.8562 - val_loss: 0.4705 - val_acc: 0.8393\n",
            "\n",
            "Epoch 00024: val_acc improved from 0.81920 to 0.83930, saving model to model/weights.hdf5\n",
            "Epoch 25/50\n",
            "390/390 [==============================] - 25s 65ms/step - loss: 0.3989 - acc: 0.8602 - val_loss: 0.5142 - val_acc: 0.8273\n",
            "\n",
            "Epoch 00025: val_acc did not improve from 0.83930\n",
            "Epoch 26/50\n",
            "390/390 [==============================] - 25s 65ms/step - loss: 0.3914 - acc: 0.8628 - val_loss: 0.4888 - val_acc: 0.8357\n",
            "\n",
            "Epoch 00026: val_acc did not improve from 0.83930\n",
            "Epoch 27/50\n",
            "390/390 [==============================] - 25s 65ms/step - loss: 0.3907 - acc: 0.8625 - val_loss: 0.5234 - val_acc: 0.8279\n",
            "\n",
            "Epoch 00027: val_acc did not improve from 0.83930\n",
            "Epoch 28/50\n",
            "390/390 [==============================] - 25s 65ms/step - loss: 0.3857 - acc: 0.8640 - val_loss: 0.5182 - val_acc: 0.8254\n",
            "\n",
            "Epoch 00028: ReduceLROnPlateau reducing learning rate to 0.0024999999441206455.\n",
            "\n",
            "Epoch 00028: val_acc did not improve from 0.83930\n",
            "Epoch 29/50\n",
            "390/390 [==============================] - 25s 65ms/step - loss: 0.3588 - acc: 0.8752 - val_loss: 0.4460 - val_acc: 0.8506\n",
            "\n",
            "Epoch 00029: val_acc improved from 0.83930 to 0.85060, saving model to model/weights.hdf5\n",
            "Epoch 30/50\n",
            "390/390 [==============================] - 25s 65ms/step - loss: 0.3512 - acc: 0.8771 - val_loss: 0.4391 - val_acc: 0.8499\n",
            "\n",
            "Epoch 00030: val_acc did not improve from 0.85060\n",
            "Epoch 31/50\n",
            "390/390 [==============================] - 25s 64ms/step - loss: 0.3510 - acc: 0.8773 - val_loss: 0.4573 - val_acc: 0.8440\n",
            "\n",
            "Epoch 00031: val_acc did not improve from 0.85060\n",
            "Epoch 32/50\n",
            "390/390 [==============================] - 25s 65ms/step - loss: 0.3434 - acc: 0.8792 - val_loss: 0.4656 - val_acc: 0.8446\n",
            "\n",
            "Epoch 00032: val_acc did not improve from 0.85060\n",
            "Epoch 33/50\n",
            "390/390 [==============================] - 25s 65ms/step - loss: 0.3401 - acc: 0.8810 - val_loss: 0.4382 - val_acc: 0.8523\n",
            "\n",
            "Epoch 00033: val_acc improved from 0.85060 to 0.85230, saving model to model/weights.hdf5\n",
            "Epoch 34/50\n",
            "390/390 [==============================] - 25s 65ms/step - loss: 0.3395 - acc: 0.8799 - val_loss: 0.4290 - val_acc: 0.8522\n",
            "\n",
            "Epoch 00034: val_acc did not improve from 0.85230\n",
            "Epoch 35/50\n",
            "390/390 [==============================] - 25s 65ms/step - loss: 0.3410 - acc: 0.8799 - val_loss: 0.4453 - val_acc: 0.8480\n",
            "\n",
            "Epoch 00035: val_acc did not improve from 0.85230\n",
            "Epoch 36/50\n",
            "390/390 [==============================] - 25s 65ms/step - loss: 0.3324 - acc: 0.8833 - val_loss: 0.4559 - val_acc: 0.8496\n",
            "\n",
            "Epoch 00036: val_acc did not improve from 0.85230\n",
            "Epoch 37/50\n",
            "390/390 [==============================] - 25s 65ms/step - loss: 0.3349 - acc: 0.8822 - val_loss: 0.4420 - val_acc: 0.8521\n",
            "\n",
            "Epoch 00037: val_acc did not improve from 0.85230\n",
            "Epoch 38/50\n",
            "390/390 [==============================] - 25s 65ms/step - loss: 0.3355 - acc: 0.8811 - val_loss: 0.4502 - val_acc: 0.8517\n",
            "\n",
            "Epoch 00038: ReduceLROnPlateau reducing learning rate to 0.0012499999720603228.\n",
            "\n",
            "Epoch 00038: val_acc did not improve from 0.85230\n",
            "Epoch 39/50\n",
            "390/390 [==============================] - 25s 65ms/step - loss: 0.3225 - acc: 0.8857 - val_loss: 0.4188 - val_acc: 0.8584\n",
            "\n",
            "Epoch 00039: val_acc improved from 0.85230 to 0.85840, saving model to model/weights.hdf5\n",
            "Epoch 40/50\n",
            "390/390 [==============================] - 25s 65ms/step - loss: 0.3139 - acc: 0.8901 - val_loss: 0.4204 - val_acc: 0.8580\n",
            "\n",
            "Epoch 00040: val_acc did not improve from 0.85840\n",
            "Epoch 41/50\n",
            "390/390 [==============================] - 25s 65ms/step - loss: 0.3100 - acc: 0.8911 - val_loss: 0.4130 - val_acc: 0.8581\n",
            "\n",
            "Epoch 00041: val_acc did not improve from 0.85840\n",
            "Epoch 42/50\n",
            "390/390 [==============================] - 25s 65ms/step - loss: 0.3118 - acc: 0.8903 - val_loss: 0.4309 - val_acc: 0.8558\n",
            "\n",
            "Epoch 00042: val_acc did not improve from 0.85840\n",
            "Epoch 43/50\n",
            "390/390 [==============================] - 25s 65ms/step - loss: 0.3066 - acc: 0.8923 - val_loss: 0.4186 - val_acc: 0.8590\n",
            "\n",
            "Epoch 00043: val_acc improved from 0.85840 to 0.85900, saving model to model/weights.hdf5\n",
            "Epoch 44/50\n",
            "390/390 [==============================] - 25s 65ms/step - loss: 0.3105 - acc: 0.8905 - val_loss: 0.4129 - val_acc: 0.8606\n",
            "\n",
            "Epoch 00044: val_acc improved from 0.85900 to 0.86060, saving model to model/weights.hdf5\n",
            "Epoch 45/50\n",
            "390/390 [==============================] - 25s 65ms/step - loss: 0.3094 - acc: 0.8909 - val_loss: 0.4325 - val_acc: 0.8537\n",
            "\n",
            "Epoch 00045: val_acc did not improve from 0.86060\n",
            "Epoch 46/50\n",
            "390/390 [==============================] - 25s 65ms/step - loss: 0.3043 - acc: 0.8937 - val_loss: 0.4197 - val_acc: 0.8600\n",
            "\n",
            "Epoch 00046: val_acc did not improve from 0.86060\n",
            "Epoch 47/50\n",
            "390/390 [==============================] - 25s 65ms/step - loss: 0.3056 - acc: 0.8922 - val_loss: 0.4391 - val_acc: 0.8527\n",
            "\n",
            "Epoch 00047: val_acc did not improve from 0.86060\n",
            "Epoch 48/50\n",
            "390/390 [==============================] - 25s 65ms/step - loss: 0.3024 - acc: 0.8930 - val_loss: 0.4262 - val_acc: 0.8564\n",
            "\n",
            "Epoch 00048: ReduceLROnPlateau reducing learning rate to 0.0006249999860301614.\n",
            "\n",
            "Epoch 00048: val_acc did not improve from 0.86060\n",
            "Epoch 49/50\n",
            "390/390 [==============================] - 25s 65ms/step - loss: 0.2972 - acc: 0.8959 - val_loss: 0.4255 - val_acc: 0.8595\n",
            "\n",
            "Epoch 00049: val_acc did not improve from 0.86060\n",
            "Epoch 50/50\n",
            "390/390 [==============================] - 25s 65ms/step - loss: 0.2950 - acc: 0.8960 - val_loss: 0.4174 - val_acc: 0.8581\n",
            "\n",
            "Epoch 00050: val_acc did not improve from 0.86060\n",
            "Model took 1278.10 seconds to train\n"
          ],
          "name": "stdout"
        },
        {
          "output_type": "display_data",
          "data": {
            "image/png": "[encoded data removed]",
            "text/plain": [
              "<Figure size 1080x360 with 2 Axes>"
            ]
          },
          "metadata": {
            "tags": []
          }
        },
        {
          "output_type": "stream",
          "text": [
            "Accuracy on test data is: 85.81\n"
          ],
          "name": "stdout"
        }
      ]
    },
    {
      "cell_type": "code",
      "metadata": {
        "id": "cSOb2lkJfhVq",
        "colab_type": "code",
        "colab": {}
      },
      "source": [
        "# Define the model\n",
        "# model = Sequential()\n",
        "# model.add(Convolution2D(48, 3, 3, border_mode='same', input_shape=(32, 32, 3)))\n",
        "# model.add(Activation('relu'))\n",
        "# model.add(Convolution2D(48, 3, 3))\n",
        "# model.add(Activation('relu'))\n",
        "# model.add(MaxPooling2D(pool_size=(2, 2)))\n",
        "# model.add(Dropout(0.25))\n",
        "# model.add(Convolution2D(96, 3, 3, border_mode='same'))\n",
        "# model.add(Activation('relu'))\n",
        "# model.add(Convolution2D(96, 3, 3))\n",
        "# model.add(Activation('relu'))\n",
        "# model.add(MaxPooling2D(pool_size=(2, 2)))\n",
        "# model.add(Dropout(0.25))\n",
        "# model.add(Convolution2D(192, 3, 3, border_mode='same'))\n",
        "# model.add(Activation('relu'))\n",
        "# model.add(Convolution2D(192, 3, 3))\n",
        "# model.add(Activation('relu'))\n",
        "# model.add(MaxPooling2D(pool_size=(2, 2)))\n",
        "# model.add(Dropout(0.25))\n",
        "# model.add(Flatten())\n",
        "# model.add(Dense(512))\n",
        "# model.add(Activation('relu'))\n",
        "# model.add(Dropout(0.5))\n",
        "# model.add(Dense(256))\n",
        "# model.add(Activation('relu'))\n",
        "# model.add(Dropout(0.5))\n",
        "# model.add(Dense(num_classes, activation='softmax'))\n"
      ],
      "execution_count": 0,
      "outputs": []
    },
    {
      "cell_type": "code",
      "metadata": {
        "id": "aHT4Yw6AZ5Aa",
        "colab_type": "code",
        "colab": {
          "base_uri": "https://localhost:8080/",
          "height": 34
        },
        "outputId": "7d0c71dc-0ddf-4240-f151-995bd77dd798"
      },
      "source": [
        "model.load_weights('model/weights.hdf5')\n",
        "score = model.evaluate(test_features, test_labels, verbose=0)\n",
        "print(score)"
      ],
      "execution_count": 19,
      "outputs": [
        {
          "output_type": "stream",
          "text": [
            "[0.41286036483049393, 0.8606]\n"
          ],
          "name": "stdout"
        }
      ]
    },
    {
      "cell_type": "code",
      "metadata": {
        "id": "sNFnQWj6GgZN",
        "colab_type": "code",
        "colab": {}
      },
      "source": [
        ""
      ],
      "execution_count": 0,
      "outputs": []
    }
  ]
}